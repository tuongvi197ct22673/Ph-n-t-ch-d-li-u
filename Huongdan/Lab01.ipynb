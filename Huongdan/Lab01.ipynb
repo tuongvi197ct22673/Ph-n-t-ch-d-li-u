{
  "cells": [
    {
      "cell_type": "markdown",
      "metadata": {
        "id": "view-in-github",
        "colab_type": "text"
      },
      "source": [
        "<a href=\"https://colab.research.google.com/github/tuongvi197ct22673/phantichdulieu/blob/main/Huongdan/Lab01.ipynb\" target=\"_parent\"><img src=\"https://colab.research.google.com/assets/colab-badge.svg\" alt=\"Open In Colab\"/></a>"
      ]
    },
    {
      "cell_type": "markdown",
      "metadata": {
        "id": "fzhlJHIZf23d"
      },
      "source": [
        ""
      ]
    },
    {
      "cell_type": "markdown",
      "metadata": {
        "id": "d4oz_WCyf4kH"
      },
      "source": [
        "#Series"
      ]
    },
    {
      "cell_type": "markdown",
      "metadata": {
        "id": "rukxJZIEf8go"
      },
      "source": [
        "The series is a pandas library object that is used to represent one-dimensional data structures that are similar to arrays but have some additional capabilities. Its underlying structure is straightforward, consisting of two arrays linked together. The main array contains the data (of any NumPy type) to which each element is assigned a label, which is contained within the other array (index)\n",
        "\n",
        "![image.png](data:image/png;base64,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)"
      ]
    },
    {
      "cell_type": "markdown",
      "metadata": {
        "id": "vMbAK5ZZiEWH"
      },
      "source": [
        "**Example 1:**"
      ]
    },
    {
      "cell_type": "code",
      "execution_count": null,
      "metadata": {
        "id": "E3hCEuKrCm_Y"
      },
      "outputs": [],
      "source": [
        "arr = [12,-4,7,9]"
      ]
    },
    {
      "cell_type": "code",
      "execution_count": null,
      "metadata": {
        "colab": {
          "base_uri": "https://localhost:8080/"
        },
        "id": "SVJaRbflCsPf",
        "outputId": "74dcf1ad-dee9-4e0a-b592-866eb6b60247"
      },
      "outputs": [
        {
          "data": {
            "text/plain": [
              "list"
            ]
          },
          "execution_count": 2,
          "metadata": {},
          "output_type": "execute_result"
        }
      ],
      "source": [
        "type(arr)"
      ]
    },
    {
      "cell_type": "code",
      "execution_count": null,
      "metadata": {
        "colab": {
          "base_uri": "https://localhost:8080/"
        },
        "id": "Q0T_1Z2o-Wql",
        "outputId": "269fd7d0-c78d-496c-f2e6-abf46f4f3b36"
      },
      "outputs": [
        {
          "data": {
            "text/plain": [
              "-4"
            ]
          },
          "execution_count": 4,
          "metadata": {},
          "output_type": "execute_result"
        }
      ],
      "source": [
        "arr[1]"
      ]
    },
    {
      "cell_type": "code",
      "execution_count": null,
      "metadata": {
        "colab": {
          "base_uri": "https://localhost:8080/"
        },
        "id": "xxY80PKJ-iLB",
        "outputId": "efeac234-74af-4636-e772-bdb000093161"
      },
      "outputs": [
        {
          "data": {
            "text/plain": [
              "12"
            ]
          },
          "execution_count": 4,
          "metadata": {},
          "output_type": "execute_result"
        }
      ],
      "source": [
        "arr[0]"
      ]
    },
    {
      "cell_type": "code",
      "execution_count": null,
      "metadata": {
        "colab": {
          "base_uri": "https://localhost:8080/"
        },
        "id": "3K42tWhhf1ij",
        "outputId": "8759f74f-aa3f-4504-80d1-7155919a566f"
      },
      "outputs": [
        {
          "name": "stdout",
          "output_type": "stream",
          "text": [
            "0    12\n",
            "1    -4\n",
            "2     7\n",
            "3     9\n",
            "dtype: int64\n"
          ]
        }
      ],
      "source": [
        "import pandas as pd #alias\n",
        "s = pd.Series(arr)\n",
        "print (s)"
      ]
    },
    {
      "cell_type": "code",
      "execution_count": null,
      "metadata": {
        "colab": {
          "base_uri": "https://localhost:8080/"
        },
        "id": "evZCfeQY-7lk",
        "outputId": "2b585a4b-fb09-400d-ce6e-979d5bad91dd"
      },
      "outputs": [
        {
          "data": {
            "text/plain": [
              "pandas.core.series.Series"
            ]
          },
          "execution_count": 6,
          "metadata": {},
          "output_type": "execute_result"
        }
      ],
      "source": [
        "type(s)"
      ]
    },
    {
      "cell_type": "markdown",
      "metadata": {
        "id": "CV7CoFBLiHtU"
      },
      "source": [
        "**Example 2:**"
      ]
    },
    {
      "cell_type": "code",
      "execution_count": null,
      "metadata": {
        "colab": {
          "base_uri": "https://localhost:8080/"
        },
        "id": "P5hcv-P4hGAz",
        "outputId": "a2689244-7b85-4442-d638-bd22c254525f"
      },
      "outputs": [
        {
          "name": "stdout",
          "output_type": "stream",
          "text": [
            "a    12\n",
            "b    -4\n",
            "c     7\n",
            "d     9\n",
            "dtype: int64\n"
          ]
        }
      ],
      "source": [
        "import pandas as pd\n",
        "s2 = pd.Series([12,-4,7,9], index=['a', 'b', 'c', 'd'])\n",
        "print (s2)"
      ]
    },
    {
      "cell_type": "markdown",
      "metadata": {
        "id": "3I6zEov8kOdf"
      },
      "source": [
        "Get values/index from s\n",
        "\n"
      ]
    },
    {
      "cell_type": "code",
      "execution_count": null,
      "metadata": {
        "colab": {
          "base_uri": "https://localhost:8080/"
        },
        "id": "_ukozB0oldlF",
        "outputId": "843ab6bd-5996-42a1-8a3b-dab6518e6ec8"
      },
      "outputs": [
        {
          "data": {
            "text/plain": [
              "array([12, -4,  7,  9])"
            ]
          },
          "execution_count": 10,
          "metadata": {},
          "output_type": "execute_result"
        }
      ],
      "source": [
        "s2.values"
      ]
    },
    {
      "cell_type": "code",
      "execution_count": null,
      "metadata": {
        "colab": {
          "base_uri": "https://localhost:8080/"
        },
        "id": "6fT94ddalxMj",
        "outputId": "56dfd99a-8845-4334-c962-16ee5f6754df"
      },
      "outputs": [
        {
          "data": {
            "text/plain": [
              "Index(['a', 'b', 'c', 'd'], dtype='object')"
            ]
          },
          "execution_count": 11,
          "metadata": {},
          "output_type": "execute_result"
        }
      ],
      "source": [
        "s2.index"
      ]
    },
    {
      "cell_type": "markdown",
      "metadata": {
        "id": "OOV7aDD8p15h"
      },
      "source": [
        "# DataFrame\n",
        "In contrast to series, which have an index array containing labels for each element, the dataframe contains two index arrays. The functions of the first index array, which is related with the lines, are quite similar to those of the index array in series. In reality, each label corresponds to all of the values in the row. The second array has a sequence of labels, each of which is connected with a certain column.\n",
        "\n",
        "A dataframe may alternatively be thought of as a dict of series, with the keys being the column names and the values being the series that will comprise the dataframe's columns. Furthermore, each series' elements are mapped according to an array of labels known as the index."
      ]
    },
    {
      "cell_type": "markdown",
      "metadata": {
        "id": "D12mcZSfoj7W"
      },
      "source": [
        "**Example 3**:"
      ]
    },
    {
      "cell_type": "code",
      "execution_count": null,
      "metadata": {
        "id": "mYy3UGddl17o"
      },
      "outputs": [],
      "source": [
        "data ={'color' : ['blue', 'green', 'yellow', 'red', 'white'],\n",
        "\t'object': ['ball', 'pen', 'pencil', 'paper', 'mug'],\n",
        "\t'price': [1.2, 1.0, 0.6,0.9,1.7]}"
      ]
    },
    {
      "cell_type": "code",
      "execution_count": null,
      "metadata": {
        "colab": {
          "base_uri": "https://localhost:8080/"
        },
        "id": "YzZB-ogF_9s6",
        "outputId": "7c6d231e-f594-43b6-c795-f24919ebc2b7"
      },
      "outputs": [
        {
          "data": {
            "text/plain": [
              "dict"
            ]
          },
          "execution_count": 15,
          "metadata": {},
          "output_type": "execute_result"
        }
      ],
      "source": [
        "type(data)"
      ]
    },
    {
      "cell_type": "code",
      "execution_count": null,
      "metadata": {
        "id": "2vrl9oTNADAe"
      },
      "outputs": [],
      "source": [
        "frame = pd.DataFrame(data)"
      ]
    },
    {
      "cell_type": "code",
      "execution_count": null,
      "metadata": {
        "colab": {
          "base_uri": "https://localhost:8080/",
          "height": 206
        },
        "id": "D4QcakHGAXKO",
        "outputId": "66dff72f-f824-4049-dbb7-935f8b474e53"
      },
      "outputs": [
        {
          "data": {
            "text/html": [
              "\n",
              "  <div id=\"df-fd2b61ab-4e24-4f86-9cb0-e9d9f1dcc64e\">\n",
              "    <div class=\"colab-df-container\">\n",
              "      <div>\n",
              "<style scoped>\n",
              "    .dataframe tbody tr th:only-of-type {\n",
              "        vertical-align: middle;\n",
              "    }\n",
              "\n",
              "    .dataframe tbody tr th {\n",
              "        vertical-align: top;\n",
              "    }\n",
              "\n",
              "    .dataframe thead th {\n",
              "        text-align: right;\n",
              "    }\n",
              "</style>\n",
              "<table border=\"1\" class=\"dataframe\">\n",
              "  <thead>\n",
              "    <tr style=\"text-align: right;\">\n",
              "      <th></th>\n",
              "      <th>color</th>\n",
              "      <th>object</th>\n",
              "      <th>price</th>\n",
              "    </tr>\n",
              "  </thead>\n",
              "  <tbody>\n",
              "    <tr>\n",
              "      <th>0</th>\n",
              "      <td>blue</td>\n",
              "      <td>ball</td>\n",
              "      <td>1.2</td>\n",
              "    </tr>\n",
              "    <tr>\n",
              "      <th>1</th>\n",
              "      <td>green</td>\n",
              "      <td>pen</td>\n",
              "      <td>1.0</td>\n",
              "    </tr>\n",
              "    <tr>\n",
              "      <th>2</th>\n",
              "      <td>yellow</td>\n",
              "      <td>pencil</td>\n",
              "      <td>0.6</td>\n",
              "    </tr>\n",
              "    <tr>\n",
              "      <th>3</th>\n",
              "      <td>red</td>\n",
              "      <td>paper</td>\n",
              "      <td>0.9</td>\n",
              "    </tr>\n",
              "    <tr>\n",
              "      <th>4</th>\n",
              "      <td>white</td>\n",
              "      <td>mug</td>\n",
              "      <td>1.7</td>\n",
              "    </tr>\n",
              "  </tbody>\n",
              "</table>\n",
              "</div>\n",
              "      <button class=\"colab-df-convert\" onclick=\"convertToInteractive('df-fd2b61ab-4e24-4f86-9cb0-e9d9f1dcc64e')\"\n",
              "              title=\"Convert this dataframe to an interactive table.\"\n",
              "              style=\"display:none;\">\n",
              "        \n",
              "  <svg xmlns=\"http://www.w3.org/2000/svg\" height=\"24px\"viewBox=\"0 0 24 24\"\n",
              "       width=\"24px\">\n",
              "    <path d=\"M0 0h24v24H0V0z\" fill=\"none\"/>\n",
              "    <path d=\"M18.56 5.44l.94 2.06.94-2.06 2.06-.94-2.06-.94-.94-2.06-.94 2.06-2.06.94zm-11 1L8.5 8.5l.94-2.06 2.06-.94-2.06-.94L8.5 2.5l-.94 2.06-2.06.94zm10 10l.94 2.06.94-2.06 2.06-.94-2.06-.94-.94-2.06-.94 2.06-2.06.94z\"/><path d=\"M17.41 7.96l-1.37-1.37c-.4-.4-.92-.59-1.43-.59-.52 0-1.04.2-1.43.59L10.3 9.45l-7.72 7.72c-.78.78-.78 2.05 0 2.83L4 21.41c.39.39.9.59 1.41.59.51 0 1.02-.2 1.41-.59l7.78-7.78 2.81-2.81c.8-.78.8-2.07 0-2.86zM5.41 20L4 18.59l7.72-7.72 1.47 1.35L5.41 20z\"/>\n",
              "  </svg>\n",
              "      </button>\n",
              "      \n",
              "  <style>\n",
              "    .colab-df-container {\n",
              "      display:flex;\n",
              "      flex-wrap:wrap;\n",
              "      gap: 12px;\n",
              "    }\n",
              "\n",
              "    .colab-df-convert {\n",
              "      background-color: #E8F0FE;\n",
              "      border: none;\n",
              "      border-radius: 50%;\n",
              "      cursor: pointer;\n",
              "      display: none;\n",
              "      fill: #1967D2;\n",
              "      height: 32px;\n",
              "      padding: 0 0 0 0;\n",
              "      width: 32px;\n",
              "    }\n",
              "\n",
              "    .colab-df-convert:hover {\n",
              "      background-color: #E2EBFA;\n",
              "      box-shadow: 0px 1px 2px rgba(60, 64, 67, 0.3), 0px 1px 3px 1px rgba(60, 64, 67, 0.15);\n",
              "      fill: #174EA6;\n",
              "    }\n",
              "\n",
              "    [theme=dark] .colab-df-convert {\n",
              "      background-color: #3B4455;\n",
              "      fill: #D2E3FC;\n",
              "    }\n",
              "\n",
              "    [theme=dark] .colab-df-convert:hover {\n",
              "      background-color: #434B5C;\n",
              "      box-shadow: 0px 1px 3px 1px rgba(0, 0, 0, 0.15);\n",
              "      filter: drop-shadow(0px 1px 2px rgba(0, 0, 0, 0.3));\n",
              "      fill: #FFFFFF;\n",
              "    }\n",
              "  </style>\n",
              "\n",
              "      <script>\n",
              "        const buttonEl =\n",
              "          document.querySelector('#df-fd2b61ab-4e24-4f86-9cb0-e9d9f1dcc64e button.colab-df-convert');\n",
              "        buttonEl.style.display =\n",
              "          google.colab.kernel.accessAllowed ? 'block' : 'none';\n",
              "\n",
              "        async function convertToInteractive(key) {\n",
              "          const element = document.querySelector('#df-fd2b61ab-4e24-4f86-9cb0-e9d9f1dcc64e');\n",
              "          const dataTable =\n",
              "            await google.colab.kernel.invokeFunction('convertToInteractive',\n",
              "                                                     [key], {});\n",
              "          if (!dataTable) return;\n",
              "\n",
              "          const docLinkHtml = 'Like what you see? Visit the ' +\n",
              "            '<a target=\"_blank\" href=https://colab.research.google.com/notebooks/data_table.ipynb>data table notebook</a>'\n",
              "            + ' to learn more about interactive tables.';\n",
              "          element.innerHTML = '';\n",
              "          dataTable['output_type'] = 'display_data';\n",
              "          await google.colab.output.renderOutput(dataTable, element);\n",
              "          const docLink = document.createElement('div');\n",
              "          docLink.innerHTML = docLinkHtml;\n",
              "          element.appendChild(docLink);\n",
              "        }\n",
              "      </script>\n",
              "    </div>\n",
              "  </div>\n",
              "  "
            ],
            "text/plain": [
              "    color  object  price\n",
              "0    blue    ball    1.2\n",
              "1   green     pen    1.0\n",
              "2  yellow  pencil    0.6\n",
              "3     red   paper    0.9\n",
              "4   white     mug    1.7"
            ]
          },
          "execution_count": 17,
          "metadata": {},
          "output_type": "execute_result"
        }
      ],
      "source": [
        "frame"
      ]
    },
    {
      "cell_type": "code",
      "execution_count": null,
      "metadata": {
        "colab": {
          "base_uri": "https://localhost:8080/"
        },
        "id": "GIYcn5xBD8jY",
        "outputId": "fd147269-1bfa-4c06-bf46-ee9bf333ae14"
      },
      "outputs": [
        {
          "data": {
            "text/plain": [
              "pandas.core.series.Series"
            ]
          },
          "execution_count": 19,
          "metadata": {},
          "output_type": "execute_result"
        }
      ],
      "source": [
        "type(frame.color)"
      ]
    },
    {
      "cell_type": "code",
      "execution_count": null,
      "metadata": {
        "colab": {
          "base_uri": "https://localhost:8080/"
        },
        "id": "Dv7rNt3JAwoY",
        "outputId": "95f07577-b936-4af4-e3be-88dca68fdc6e"
      },
      "outputs": [
        {
          "data": {
            "text/plain": [
              "0      blue\n",
              "1     green\n",
              "2    yellow\n",
              "3       red\n",
              "4     white\n",
              "Name: color, dtype: object"
            ]
          },
          "execution_count": 21,
          "metadata": {},
          "output_type": "execute_result"
        }
      ],
      "source": [
        "frame.color"
      ]
    },
    {
      "cell_type": "code",
      "execution_count": null,
      "metadata": {
        "colab": {
          "base_uri": "https://localhost:8080/"
        },
        "id": "mPha_CqsEBWo",
        "outputId": "10e26457-27a6-4736-9e4c-6bac474a9db9"
      },
      "outputs": [
        {
          "data": {
            "text/plain": [
              "0      blue\n",
              "1     green\n",
              "2    yellow\n",
              "3       red\n",
              "4     white\n",
              "Name: color, dtype: object"
            ]
          },
          "execution_count": 20,
          "metadata": {},
          "output_type": "execute_result"
        }
      ],
      "source": [
        "frame['color']"
      ]
    },
    {
      "cell_type": "code",
      "execution_count": null,
      "metadata": {
        "colab": {
          "base_uri": "https://localhost:8080/"
        },
        "id": "jQ3ajkaHDlbQ",
        "outputId": "0a697cee-8be5-4dab-963e-9dedce6c36b5"
      },
      "outputs": [
        {
          "data": {
            "text/plain": [
              "dict"
            ]
          },
          "execution_count": 13,
          "metadata": {},
          "output_type": "execute_result"
        }
      ],
      "source": [
        "type(data)"
      ]
    },
    {
      "cell_type": "markdown",
      "metadata": {
        "id": "eg6-dBL2pFlq"
      },
      "source": [
        "**Example 4**:"
      ]
    },
    {
      "cell_type": "code",
      "execution_count": null,
      "metadata": {
        "colab": {
          "base_uri": "https://localhost:8080/",
          "height": 206
        },
        "id": "GwBwSXxapI_U",
        "outputId": "37a6b267-97cd-4d7d-cb12-b03d0d364af9"
      },
      "outputs": [
        {
          "data": {
            "text/html": [
              "\n",
              "  <div id=\"df-8f397fed-4eb4-44db-b96c-7bed485a458f\">\n",
              "    <div class=\"colab-df-container\">\n",
              "      <div>\n",
              "<style scoped>\n",
              "    .dataframe tbody tr th:only-of-type {\n",
              "        vertical-align: middle;\n",
              "    }\n",
              "\n",
              "    .dataframe tbody tr th {\n",
              "        vertical-align: top;\n",
              "    }\n",
              "\n",
              "    .dataframe thead th {\n",
              "        text-align: right;\n",
              "    }\n",
              "</style>\n",
              "<table border=\"1\" class=\"dataframe\">\n",
              "  <thead>\n",
              "    <tr style=\"text-align: right;\">\n",
              "      <th></th>\n",
              "      <th>object</th>\n",
              "      <th>price</th>\n",
              "    </tr>\n",
              "  </thead>\n",
              "  <tbody>\n",
              "    <tr>\n",
              "      <th>0</th>\n",
              "      <td>ball</td>\n",
              "      <td>1.2</td>\n",
              "    </tr>\n",
              "    <tr>\n",
              "      <th>1</th>\n",
              "      <td>pen</td>\n",
              "      <td>1.0</td>\n",
              "    </tr>\n",
              "    <tr>\n",
              "      <th>2</th>\n",
              "      <td>pencil</td>\n",
              "      <td>0.6</td>\n",
              "    </tr>\n",
              "    <tr>\n",
              "      <th>3</th>\n",
              "      <td>paper</td>\n",
              "      <td>0.9</td>\n",
              "    </tr>\n",
              "    <tr>\n",
              "      <th>4</th>\n",
              "      <td>mug</td>\n",
              "      <td>1.7</td>\n",
              "    </tr>\n",
              "  </tbody>\n",
              "</table>\n",
              "</div>\n",
              "      <button class=\"colab-df-convert\" onclick=\"convertToInteractive('df-8f397fed-4eb4-44db-b96c-7bed485a458f')\"\n",
              "              title=\"Convert this dataframe to an interactive table.\"\n",
              "              style=\"display:none;\">\n",
              "        \n",
              "  <svg xmlns=\"http://www.w3.org/2000/svg\" height=\"24px\"viewBox=\"0 0 24 24\"\n",
              "       width=\"24px\">\n",
              "    <path d=\"M0 0h24v24H0V0z\" fill=\"none\"/>\n",
              "    <path d=\"M18.56 5.44l.94 2.06.94-2.06 2.06-.94-2.06-.94-.94-2.06-.94 2.06-2.06.94zm-11 1L8.5 8.5l.94-2.06 2.06-.94-2.06-.94L8.5 2.5l-.94 2.06-2.06.94zm10 10l.94 2.06.94-2.06 2.06-.94-2.06-.94-.94-2.06-.94 2.06-2.06.94z\"/><path d=\"M17.41 7.96l-1.37-1.37c-.4-.4-.92-.59-1.43-.59-.52 0-1.04.2-1.43.59L10.3 9.45l-7.72 7.72c-.78.78-.78 2.05 0 2.83L4 21.41c.39.39.9.59 1.41.59.51 0 1.02-.2 1.41-.59l7.78-7.78 2.81-2.81c.8-.78.8-2.07 0-2.86zM5.41 20L4 18.59l7.72-7.72 1.47 1.35L5.41 20z\"/>\n",
              "  </svg>\n",
              "      </button>\n",
              "      \n",
              "  <style>\n",
              "    .colab-df-container {\n",
              "      display:flex;\n",
              "      flex-wrap:wrap;\n",
              "      gap: 12px;\n",
              "    }\n",
              "\n",
              "    .colab-df-convert {\n",
              "      background-color: #E8F0FE;\n",
              "      border: none;\n",
              "      border-radius: 50%;\n",
              "      cursor: pointer;\n",
              "      display: none;\n",
              "      fill: #1967D2;\n",
              "      height: 32px;\n",
              "      padding: 0 0 0 0;\n",
              "      width: 32px;\n",
              "    }\n",
              "\n",
              "    .colab-df-convert:hover {\n",
              "      background-color: #E2EBFA;\n",
              "      box-shadow: 0px 1px 2px rgba(60, 64, 67, 0.3), 0px 1px 3px 1px rgba(60, 64, 67, 0.15);\n",
              "      fill: #174EA6;\n",
              "    }\n",
              "\n",
              "    [theme=dark] .colab-df-convert {\n",
              "      background-color: #3B4455;\n",
              "      fill: #D2E3FC;\n",
              "    }\n",
              "\n",
              "    [theme=dark] .colab-df-convert:hover {\n",
              "      background-color: #434B5C;\n",
              "      box-shadow: 0px 1px 3px 1px rgba(0, 0, 0, 0.15);\n",
              "      filter: drop-shadow(0px 1px 2px rgba(0, 0, 0, 0.3));\n",
              "      fill: #FFFFFF;\n",
              "    }\n",
              "  </style>\n",
              "\n",
              "      <script>\n",
              "        const buttonEl =\n",
              "          document.querySelector('#df-8f397fed-4eb4-44db-b96c-7bed485a458f button.colab-df-convert');\n",
              "        buttonEl.style.display =\n",
              "          google.colab.kernel.accessAllowed ? 'block' : 'none';\n",
              "\n",
              "        async function convertToInteractive(key) {\n",
              "          const element = document.querySelector('#df-8f397fed-4eb4-44db-b96c-7bed485a458f');\n",
              "          const dataTable =\n",
              "            await google.colab.kernel.invokeFunction('convertToInteractive',\n",
              "                                                     [key], {});\n",
              "          if (!dataTable) return;\n",
              "\n",
              "          const docLinkHtml = 'Like what you see? Visit the ' +\n",
              "            '<a target=\"_blank\" href=https://colab.research.google.com/notebooks/data_table.ipynb>data table notebook</a>'\n",
              "            + ' to learn more about interactive tables.';\n",
              "          element.innerHTML = '';\n",
              "          dataTable['output_type'] = 'display_data';\n",
              "          await google.colab.output.renderOutput(dataTable, element);\n",
              "          const docLink = document.createElement('div');\n",
              "          docLink.innerHTML = docLinkHtml;\n",
              "          element.appendChild(docLink);\n",
              "        }\n",
              "      </script>\n",
              "    </div>\n",
              "  </div>\n",
              "  "
            ],
            "text/plain": [
              "   object  price\n",
              "0    ball    1.2\n",
              "1     pen    1.0\n",
              "2  pencil    0.6\n",
              "3   paper    0.9\n",
              "4     mug    1.7"
            ]
          },
          "execution_count": 24,
          "metadata": {},
          "output_type": "execute_result"
        }
      ],
      "source": [
        "frame2 = pd.DataFrame (frame, columns = ['object', 'price'])\n",
        "frame2"
      ]
    },
    {
      "cell_type": "markdown",
      "metadata": {
        "id": "nWXVdTJRvheb"
      },
      "source": [
        "**Example 5**: Tạo columns mới với 1 giá trị mặc định ban đầu"
      ]
    },
    {
      "cell_type": "code",
      "execution_count": null,
      "metadata": {
        "colab": {
          "base_uri": "https://localhost:8080/",
          "height": 206
        },
        "id": "k2064xg3vffI",
        "outputId": "8ef01142-5d5c-45e8-fbf3-96054d1a516f"
      },
      "outputs": [
        {
          "data": {
            "text/html": [
              "\n",
              "  <div id=\"df-26ce0336-f953-4827-b707-6490cba04468\">\n",
              "    <div class=\"colab-df-container\">\n",
              "      <div>\n",
              "<style scoped>\n",
              "    .dataframe tbody tr th:only-of-type {\n",
              "        vertical-align: middle;\n",
              "    }\n",
              "\n",
              "    .dataframe tbody tr th {\n",
              "        vertical-align: top;\n",
              "    }\n",
              "\n",
              "    .dataframe thead th {\n",
              "        text-align: right;\n",
              "    }\n",
              "</style>\n",
              "<table border=\"1\" class=\"dataframe\">\n",
              "  <thead>\n",
              "    <tr style=\"text-align: right;\">\n",
              "      <th></th>\n",
              "      <th>object</th>\n",
              "      <th>price</th>\n",
              "      <th>type</th>\n",
              "    </tr>\n",
              "  </thead>\n",
              "  <tbody>\n",
              "    <tr>\n",
              "      <th>0</th>\n",
              "      <td>ball</td>\n",
              "      <td>1.2</td>\n",
              "      <td>normal</td>\n",
              "    </tr>\n",
              "    <tr>\n",
              "      <th>1</th>\n",
              "      <td>pen</td>\n",
              "      <td>1.0</td>\n",
              "      <td>normal</td>\n",
              "    </tr>\n",
              "    <tr>\n",
              "      <th>2</th>\n",
              "      <td>pencil</td>\n",
              "      <td>0.6</td>\n",
              "      <td>normal</td>\n",
              "    </tr>\n",
              "    <tr>\n",
              "      <th>3</th>\n",
              "      <td>paper</td>\n",
              "      <td>0.9</td>\n",
              "      <td>normal</td>\n",
              "    </tr>\n",
              "    <tr>\n",
              "      <th>4</th>\n",
              "      <td>mug</td>\n",
              "      <td>1.7</td>\n",
              "      <td>normal</td>\n",
              "    </tr>\n",
              "  </tbody>\n",
              "</table>\n",
              "</div>\n",
              "      <button class=\"colab-df-convert\" onclick=\"convertToInteractive('df-26ce0336-f953-4827-b707-6490cba04468')\"\n",
              "              title=\"Convert this dataframe to an interactive table.\"\n",
              "              style=\"display:none;\">\n",
              "        \n",
              "  <svg xmlns=\"http://www.w3.org/2000/svg\" height=\"24px\"viewBox=\"0 0 24 24\"\n",
              "       width=\"24px\">\n",
              "    <path d=\"M0 0h24v24H0V0z\" fill=\"none\"/>\n",
              "    <path d=\"M18.56 5.44l.94 2.06.94-2.06 2.06-.94-2.06-.94-.94-2.06-.94 2.06-2.06.94zm-11 1L8.5 8.5l.94-2.06 2.06-.94-2.06-.94L8.5 2.5l-.94 2.06-2.06.94zm10 10l.94 2.06.94-2.06 2.06-.94-2.06-.94-.94-2.06-.94 2.06-2.06.94z\"/><path d=\"M17.41 7.96l-1.37-1.37c-.4-.4-.92-.59-1.43-.59-.52 0-1.04.2-1.43.59L10.3 9.45l-7.72 7.72c-.78.78-.78 2.05 0 2.83L4 21.41c.39.39.9.59 1.41.59.51 0 1.02-.2 1.41-.59l7.78-7.78 2.81-2.81c.8-.78.8-2.07 0-2.86zM5.41 20L4 18.59l7.72-7.72 1.47 1.35L5.41 20z\"/>\n",
              "  </svg>\n",
              "      </button>\n",
              "      \n",
              "  <style>\n",
              "    .colab-df-container {\n",
              "      display:flex;\n",
              "      flex-wrap:wrap;\n",
              "      gap: 12px;\n",
              "    }\n",
              "\n",
              "    .colab-df-convert {\n",
              "      background-color: #E8F0FE;\n",
              "      border: none;\n",
              "      border-radius: 50%;\n",
              "      cursor: pointer;\n",
              "      display: none;\n",
              "      fill: #1967D2;\n",
              "      height: 32px;\n",
              "      padding: 0 0 0 0;\n",
              "      width: 32px;\n",
              "    }\n",
              "\n",
              "    .colab-df-convert:hover {\n",
              "      background-color: #E2EBFA;\n",
              "      box-shadow: 0px 1px 2px rgba(60, 64, 67, 0.3), 0px 1px 3px 1px rgba(60, 64, 67, 0.15);\n",
              "      fill: #174EA6;\n",
              "    }\n",
              "\n",
              "    [theme=dark] .colab-df-convert {\n",
              "      background-color: #3B4455;\n",
              "      fill: #D2E3FC;\n",
              "    }\n",
              "\n",
              "    [theme=dark] .colab-df-convert:hover {\n",
              "      background-color: #434B5C;\n",
              "      box-shadow: 0px 1px 3px 1px rgba(0, 0, 0, 0.15);\n",
              "      filter: drop-shadow(0px 1px 2px rgba(0, 0, 0, 0.3));\n",
              "      fill: #FFFFFF;\n",
              "    }\n",
              "  </style>\n",
              "\n",
              "      <script>\n",
              "        const buttonEl =\n",
              "          document.querySelector('#df-26ce0336-f953-4827-b707-6490cba04468 button.colab-df-convert');\n",
              "        buttonEl.style.display =\n",
              "          google.colab.kernel.accessAllowed ? 'block' : 'none';\n",
              "\n",
              "        async function convertToInteractive(key) {\n",
              "          const element = document.querySelector('#df-26ce0336-f953-4827-b707-6490cba04468');\n",
              "          const dataTable =\n",
              "            await google.colab.kernel.invokeFunction('convertToInteractive',\n",
              "                                                     [key], {});\n",
              "          if (!dataTable) return;\n",
              "\n",
              "          const docLinkHtml = 'Like what you see? Visit the ' +\n",
              "            '<a target=\"_blank\" href=https://colab.research.google.com/notebooks/data_table.ipynb>data table notebook</a>'\n",
              "            + ' to learn more about interactive tables.';\n",
              "          element.innerHTML = '';\n",
              "          dataTable['output_type'] = 'display_data';\n",
              "          await google.colab.output.renderOutput(dataTable, element);\n",
              "          const docLink = document.createElement('div');\n",
              "          docLink.innerHTML = docLinkHtml;\n",
              "          element.appendChild(docLink);\n",
              "        }\n",
              "      </script>\n",
              "    </div>\n",
              "  </div>\n",
              "  "
            ],
            "text/plain": [
              "   object  price    type\n",
              "0    ball    1.2  normal\n",
              "1     pen    1.0  normal\n",
              "2  pencil    0.6  normal\n",
              "3   paper    0.9  normal\n",
              "4     mug    1.7  normal"
            ]
          },
          "execution_count": 25,
          "metadata": {},
          "output_type": "execute_result"
        }
      ],
      "source": [
        "frame2['type'] ='normal'\n",
        "frame2"
      ]
    },
    {
      "cell_type": "code",
      "execution_count": null,
      "metadata": {
        "colab": {
          "base_uri": "https://localhost:8080/"
        },
        "id": "1k_S7XFjGm_p",
        "outputId": "03abce19-33b2-4923-92f0-85623aec2cff"
      },
      "outputs": [
        {
          "data": {
            "text/plain": [
              "5"
            ]
          },
          "execution_count": 16,
          "metadata": {},
          "output_type": "execute_result"
        }
      ],
      "source": [
        "len(frame2)"
      ]
    },
    {
      "cell_type": "code",
      "execution_count": null,
      "metadata": {
        "colab": {
          "base_uri": "https://localhost:8080/"
        },
        "id": "MV4IjZHNGwWY",
        "outputId": "ad777d93-f40b-46a9-fbaa-c79b4236fac1"
      },
      "outputs": [
        {
          "data": {
            "text/plain": [
              "1.2"
            ]
          },
          "execution_count": 27,
          "metadata": {},
          "output_type": "execute_result"
        }
      ],
      "source": [
        "frame2['price'][0]"
      ]
    },
    {
      "cell_type": "markdown",
      "metadata": {
        "id": "_fcPzP8iNf8O"
      },
      "source": [
        "**Example 6**: Thực hành hàm **loc, iloc** trong DataFrame"
      ]
    },
    {
      "cell_type": "code",
      "execution_count": null,
      "metadata": {
        "colab": {
          "base_uri": "https://localhost:8080/",
          "height": 206
        },
        "id": "hmNXoGouytL2",
        "outputId": "30fbd5ae-dc20-4e56-9b93-e1c6a5450a36"
      },
      "outputs": [
        {
          "data": {
            "text/html": [
              "\n",
              "  <div id=\"df-6d2181d6-ba94-48fd-aad7-5fdc2b36f869\">\n",
              "    <div class=\"colab-df-container\">\n",
              "      <div>\n",
              "<style scoped>\n",
              "    .dataframe tbody tr th:only-of-type {\n",
              "        vertical-align: middle;\n",
              "    }\n",
              "\n",
              "    .dataframe tbody tr th {\n",
              "        vertical-align: top;\n",
              "    }\n",
              "\n",
              "    .dataframe thead th {\n",
              "        text-align: right;\n",
              "    }\n",
              "</style>\n",
              "<table border=\"1\" class=\"dataframe\">\n",
              "  <thead>\n",
              "    <tr style=\"text-align: right;\">\n",
              "      <th></th>\n",
              "      <th>object</th>\n",
              "      <th>price</th>\n",
              "      <th>type</th>\n",
              "    </tr>\n",
              "  </thead>\n",
              "  <tbody>\n",
              "    <tr>\n",
              "      <th>0</th>\n",
              "      <td>ball</td>\n",
              "      <td>1.2</td>\n",
              "      <td>good</td>\n",
              "    </tr>\n",
              "    <tr>\n",
              "      <th>1</th>\n",
              "      <td>pen</td>\n",
              "      <td>1.0</td>\n",
              "      <td>normal</td>\n",
              "    </tr>\n",
              "    <tr>\n",
              "      <th>2</th>\n",
              "      <td>pencil</td>\n",
              "      <td>0.6</td>\n",
              "      <td>normal</td>\n",
              "    </tr>\n",
              "    <tr>\n",
              "      <th>3</th>\n",
              "      <td>paper</td>\n",
              "      <td>0.9</td>\n",
              "      <td>normal</td>\n",
              "    </tr>\n",
              "    <tr>\n",
              "      <th>4</th>\n",
              "      <td>mug</td>\n",
              "      <td>1.7</td>\n",
              "      <td>good</td>\n",
              "    </tr>\n",
              "  </tbody>\n",
              "</table>\n",
              "</div>\n",
              "      <button class=\"colab-df-convert\" onclick=\"convertToInteractive('df-6d2181d6-ba94-48fd-aad7-5fdc2b36f869')\"\n",
              "              title=\"Convert this dataframe to an interactive table.\"\n",
              "              style=\"display:none;\">\n",
              "        \n",
              "  <svg xmlns=\"http://www.w3.org/2000/svg\" height=\"24px\"viewBox=\"0 0 24 24\"\n",
              "       width=\"24px\">\n",
              "    <path d=\"M0 0h24v24H0V0z\" fill=\"none\"/>\n",
              "    <path d=\"M18.56 5.44l.94 2.06.94-2.06 2.06-.94-2.06-.94-.94-2.06-.94 2.06-2.06.94zm-11 1L8.5 8.5l.94-2.06 2.06-.94-2.06-.94L8.5 2.5l-.94 2.06-2.06.94zm10 10l.94 2.06.94-2.06 2.06-.94-2.06-.94-.94-2.06-.94 2.06-2.06.94z\"/><path d=\"M17.41 7.96l-1.37-1.37c-.4-.4-.92-.59-1.43-.59-.52 0-1.04.2-1.43.59L10.3 9.45l-7.72 7.72c-.78.78-.78 2.05 0 2.83L4 21.41c.39.39.9.59 1.41.59.51 0 1.02-.2 1.41-.59l7.78-7.78 2.81-2.81c.8-.78.8-2.07 0-2.86zM5.41 20L4 18.59l7.72-7.72 1.47 1.35L5.41 20z\"/>\n",
              "  </svg>\n",
              "      </button>\n",
              "      \n",
              "  <style>\n",
              "    .colab-df-container {\n",
              "      display:flex;\n",
              "      flex-wrap:wrap;\n",
              "      gap: 12px;\n",
              "    }\n",
              "\n",
              "    .colab-df-convert {\n",
              "      background-color: #E8F0FE;\n",
              "      border: none;\n",
              "      border-radius: 50%;\n",
              "      cursor: pointer;\n",
              "      display: none;\n",
              "      fill: #1967D2;\n",
              "      height: 32px;\n",
              "      padding: 0 0 0 0;\n",
              "      width: 32px;\n",
              "    }\n",
              "\n",
              "    .colab-df-convert:hover {\n",
              "      background-color: #E2EBFA;\n",
              "      box-shadow: 0px 1px 2px rgba(60, 64, 67, 0.3), 0px 1px 3px 1px rgba(60, 64, 67, 0.15);\n",
              "      fill: #174EA6;\n",
              "    }\n",
              "\n",
              "    [theme=dark] .colab-df-convert {\n",
              "      background-color: #3B4455;\n",
              "      fill: #D2E3FC;\n",
              "    }\n",
              "\n",
              "    [theme=dark] .colab-df-convert:hover {\n",
              "      background-color: #434B5C;\n",
              "      box-shadow: 0px 1px 3px 1px rgba(0, 0, 0, 0.15);\n",
              "      filter: drop-shadow(0px 1px 2px rgba(0, 0, 0, 0.3));\n",
              "      fill: #FFFFFF;\n",
              "    }\n",
              "  </style>\n",
              "\n",
              "      <script>\n",
              "        const buttonEl =\n",
              "          document.querySelector('#df-6d2181d6-ba94-48fd-aad7-5fdc2b36f869 button.colab-df-convert');\n",
              "        buttonEl.style.display =\n",
              "          google.colab.kernel.accessAllowed ? 'block' : 'none';\n",
              "\n",
              "        async function convertToInteractive(key) {\n",
              "          const element = document.querySelector('#df-6d2181d6-ba94-48fd-aad7-5fdc2b36f869');\n",
              "          const dataTable =\n",
              "            await google.colab.kernel.invokeFunction('convertToInteractive',\n",
              "                                                     [key], {});\n",
              "          if (!dataTable) return;\n",
              "\n",
              "          const docLinkHtml = 'Like what you see? Visit the ' +\n",
              "            '<a target=\"_blank\" href=https://colab.research.google.com/notebooks/data_table.ipynb>data table notebook</a>'\n",
              "            + ' to learn more about interactive tables.';\n",
              "          element.innerHTML = '';\n",
              "          dataTable['output_type'] = 'display_data';\n",
              "          await google.colab.output.renderOutput(dataTable, element);\n",
              "          const docLink = document.createElement('div');\n",
              "          docLink.innerHTML = docLinkHtml;\n",
              "          element.appendChild(docLink);\n",
              "        }\n",
              "      </script>\n",
              "    </div>\n",
              "  </div>\n",
              "  "
            ],
            "text/plain": [
              "   object  price    type\n",
              "0    ball    1.2    good\n",
              "1     pen    1.0  normal\n",
              "2  pencil    0.6  normal\n",
              "3   paper    0.9  normal\n",
              "4     mug    1.7    good"
            ]
          },
          "execution_count": 28,
          "metadata": {},
          "output_type": "execute_result"
        }
      ],
      "source": [
        "for i in range(len(frame2)):\n",
        "  if frame2['price'][i] > 1.0:\n",
        "    frame2.loc[i, 'type'] = 'good' #update ith of column type with a new value\n",
        "frame2"
      ]
    },
    {
      "cell_type": "markdown",
      "metadata": {
        "id": "J_E2yyo81b3H"
      },
      "source": [
        "**Example 7**:"
      ]
    },
    {
      "cell_type": "code",
      "execution_count": null,
      "metadata": {
        "colab": {
          "base_uri": "https://localhost:8080/",
          "height": 206
        },
        "id": "Q__BdqD21eYP",
        "outputId": "fad4dd4b-364b-4969-9581-0e5a0183ff47"
      },
      "outputs": [
        {
          "data": {
            "text/html": [
              "\n",
              "  <div id=\"df-cd6246a2-b1c3-4ed4-a01b-e3ddf6257df5\">\n",
              "    <div class=\"colab-df-container\">\n",
              "      <div>\n",
              "<style scoped>\n",
              "    .dataframe tbody tr th:only-of-type {\n",
              "        vertical-align: middle;\n",
              "    }\n",
              "\n",
              "    .dataframe tbody tr th {\n",
              "        vertical-align: top;\n",
              "    }\n",
              "\n",
              "    .dataframe thead th {\n",
              "        text-align: right;\n",
              "    }\n",
              "</style>\n",
              "<table border=\"1\" class=\"dataframe\">\n",
              "  <thead>\n",
              "    <tr style=\"text-align: right;\">\n",
              "      <th></th>\n",
              "      <th>object</th>\n",
              "      <th>price</th>\n",
              "      <th>type</th>\n",
              "      <th>discount</th>\n",
              "    </tr>\n",
              "  </thead>\n",
              "  <tbody>\n",
              "    <tr>\n",
              "      <th>0</th>\n",
              "      <td>ball</td>\n",
              "      <td>1.2</td>\n",
              "      <td>good</td>\n",
              "      <td>0.024</td>\n",
              "    </tr>\n",
              "    <tr>\n",
              "      <th>1</th>\n",
              "      <td>pen</td>\n",
              "      <td>1.0</td>\n",
              "      <td>normal</td>\n",
              "      <td>0.020</td>\n",
              "    </tr>\n",
              "    <tr>\n",
              "      <th>2</th>\n",
              "      <td>pencil</td>\n",
              "      <td>0.6</td>\n",
              "      <td>normal</td>\n",
              "      <td>0.012</td>\n",
              "    </tr>\n",
              "    <tr>\n",
              "      <th>3</th>\n",
              "      <td>paper</td>\n",
              "      <td>0.9</td>\n",
              "      <td>normal</td>\n",
              "      <td>0.018</td>\n",
              "    </tr>\n",
              "    <tr>\n",
              "      <th>4</th>\n",
              "      <td>mug</td>\n",
              "      <td>1.7</td>\n",
              "      <td>good</td>\n",
              "      <td>0.034</td>\n",
              "    </tr>\n",
              "  </tbody>\n",
              "</table>\n",
              "</div>\n",
              "      <button class=\"colab-df-convert\" onclick=\"convertToInteractive('df-cd6246a2-b1c3-4ed4-a01b-e3ddf6257df5')\"\n",
              "              title=\"Convert this dataframe to an interactive table.\"\n",
              "              style=\"display:none;\">\n",
              "        \n",
              "  <svg xmlns=\"http://www.w3.org/2000/svg\" height=\"24px\"viewBox=\"0 0 24 24\"\n",
              "       width=\"24px\">\n",
              "    <path d=\"M0 0h24v24H0V0z\" fill=\"none\"/>\n",
              "    <path d=\"M18.56 5.44l.94 2.06.94-2.06 2.06-.94-2.06-.94-.94-2.06-.94 2.06-2.06.94zm-11 1L8.5 8.5l.94-2.06 2.06-.94-2.06-.94L8.5 2.5l-.94 2.06-2.06.94zm10 10l.94 2.06.94-2.06 2.06-.94-2.06-.94-.94-2.06-.94 2.06-2.06.94z\"/><path d=\"M17.41 7.96l-1.37-1.37c-.4-.4-.92-.59-1.43-.59-.52 0-1.04.2-1.43.59L10.3 9.45l-7.72 7.72c-.78.78-.78 2.05 0 2.83L4 21.41c.39.39.9.59 1.41.59.51 0 1.02-.2 1.41-.59l7.78-7.78 2.81-2.81c.8-.78.8-2.07 0-2.86zM5.41 20L4 18.59l7.72-7.72 1.47 1.35L5.41 20z\"/>\n",
              "  </svg>\n",
              "      </button>\n",
              "      \n",
              "  <style>\n",
              "    .colab-df-container {\n",
              "      display:flex;\n",
              "      flex-wrap:wrap;\n",
              "      gap: 12px;\n",
              "    }\n",
              "\n",
              "    .colab-df-convert {\n",
              "      background-color: #E8F0FE;\n",
              "      border: none;\n",
              "      border-radius: 50%;\n",
              "      cursor: pointer;\n",
              "      display: none;\n",
              "      fill: #1967D2;\n",
              "      height: 32px;\n",
              "      padding: 0 0 0 0;\n",
              "      width: 32px;\n",
              "    }\n",
              "\n",
              "    .colab-df-convert:hover {\n",
              "      background-color: #E2EBFA;\n",
              "      box-shadow: 0px 1px 2px rgba(60, 64, 67, 0.3), 0px 1px 3px 1px rgba(60, 64, 67, 0.15);\n",
              "      fill: #174EA6;\n",
              "    }\n",
              "\n",
              "    [theme=dark] .colab-df-convert {\n",
              "      background-color: #3B4455;\n",
              "      fill: #D2E3FC;\n",
              "    }\n",
              "\n",
              "    [theme=dark] .colab-df-convert:hover {\n",
              "      background-color: #434B5C;\n",
              "      box-shadow: 0px 1px 3px 1px rgba(0, 0, 0, 0.15);\n",
              "      filter: drop-shadow(0px 1px 2px rgba(0, 0, 0, 0.3));\n",
              "      fill: #FFFFFF;\n",
              "    }\n",
              "  </style>\n",
              "\n",
              "      <script>\n",
              "        const buttonEl =\n",
              "          document.querySelector('#df-cd6246a2-b1c3-4ed4-a01b-e3ddf6257df5 button.colab-df-convert');\n",
              "        buttonEl.style.display =\n",
              "          google.colab.kernel.accessAllowed ? 'block' : 'none';\n",
              "\n",
              "        async function convertToInteractive(key) {\n",
              "          const element = document.querySelector('#df-cd6246a2-b1c3-4ed4-a01b-e3ddf6257df5');\n",
              "          const dataTable =\n",
              "            await google.colab.kernel.invokeFunction('convertToInteractive',\n",
              "                                                     [key], {});\n",
              "          if (!dataTable) return;\n",
              "\n",
              "          const docLinkHtml = 'Like what you see? Visit the ' +\n",
              "            '<a target=\"_blank\" href=https://colab.research.google.com/notebooks/data_table.ipynb>data table notebook</a>'\n",
              "            + ' to learn more about interactive tables.';\n",
              "          element.innerHTML = '';\n",
              "          dataTable['output_type'] = 'display_data';\n",
              "          await google.colab.output.renderOutput(dataTable, element);\n",
              "          const docLink = document.createElement('div');\n",
              "          docLink.innerHTML = docLinkHtml;\n",
              "          element.appendChild(docLink);\n",
              "        }\n",
              "      </script>\n",
              "    </div>\n",
              "  </div>\n",
              "  "
            ],
            "text/plain": [
              "   object  price    type  discount\n",
              "0    ball    1.2    good     0.024\n",
              "1     pen    1.0  normal     0.020\n",
              "2  pencil    0.6  normal     0.012\n",
              "3   paper    0.9  normal     0.018\n",
              "4     mug    1.7    good     0.034"
            ]
          },
          "execution_count": 20,
          "metadata": {},
          "output_type": "execute_result"
        }
      ],
      "source": [
        "frame2['discount'] = frame2['price']*0.02\n",
        "frame2"
      ]
    },
    {
      "cell_type": "markdown",
      "metadata": {
        "id": "hezyhaa3llyw"
      },
      "source": [
        "**Example 8**:"
      ]
    },
    {
      "cell_type": "code",
      "execution_count": null,
      "metadata": {
        "colab": {
          "base_uri": "https://localhost:8080/",
          "height": 206
        },
        "id": "vl4M3ZxQ00x7",
        "outputId": "e3d83fde-33d0-4bb3-f86d-3d528b2f64e2"
      },
      "outputs": [
        {
          "data": {
            "text/html": [
              "\n",
              "  <div id=\"df-1ad2d335-3804-4af5-b16f-75bbcf076e70\">\n",
              "    <div class=\"colab-df-container\">\n",
              "      <div>\n",
              "<style scoped>\n",
              "    .dataframe tbody tr th:only-of-type {\n",
              "        vertical-align: middle;\n",
              "    }\n",
              "\n",
              "    .dataframe tbody tr th {\n",
              "        vertical-align: top;\n",
              "    }\n",
              "\n",
              "    .dataframe thead th {\n",
              "        text-align: right;\n",
              "    }\n",
              "</style>\n",
              "<table border=\"1\" class=\"dataframe\">\n",
              "  <thead>\n",
              "    <tr style=\"text-align: right;\">\n",
              "      <th></th>\n",
              "      <th>object</th>\n",
              "      <th>price</th>\n",
              "      <th>type</th>\n",
              "      <th>discount</th>\n",
              "      <th>price_afterdiscount</th>\n",
              "    </tr>\n",
              "  </thead>\n",
              "  <tbody>\n",
              "    <tr>\n",
              "      <th>0</th>\n",
              "      <td>ball</td>\n",
              "      <td>1.2</td>\n",
              "      <td>good</td>\n",
              "      <td>0.024</td>\n",
              "      <td>1.176</td>\n",
              "    </tr>\n",
              "    <tr>\n",
              "      <th>1</th>\n",
              "      <td>pen</td>\n",
              "      <td>1.0</td>\n",
              "      <td>normal</td>\n",
              "      <td>0.020</td>\n",
              "      <td>0.980</td>\n",
              "    </tr>\n",
              "    <tr>\n",
              "      <th>2</th>\n",
              "      <td>pencil</td>\n",
              "      <td>0.6</td>\n",
              "      <td>normal</td>\n",
              "      <td>0.012</td>\n",
              "      <td>0.588</td>\n",
              "    </tr>\n",
              "    <tr>\n",
              "      <th>3</th>\n",
              "      <td>paper</td>\n",
              "      <td>0.9</td>\n",
              "      <td>normal</td>\n",
              "      <td>0.018</td>\n",
              "      <td>0.882</td>\n",
              "    </tr>\n",
              "    <tr>\n",
              "      <th>4</th>\n",
              "      <td>mug</td>\n",
              "      <td>1.7</td>\n",
              "      <td>good</td>\n",
              "      <td>0.034</td>\n",
              "      <td>1.666</td>\n",
              "    </tr>\n",
              "  </tbody>\n",
              "</table>\n",
              "</div>\n",
              "      <button class=\"colab-df-convert\" onclick=\"convertToInteractive('df-1ad2d335-3804-4af5-b16f-75bbcf076e70')\"\n",
              "              title=\"Convert this dataframe to an interactive table.\"\n",
              "              style=\"display:none;\">\n",
              "        \n",
              "  <svg xmlns=\"http://www.w3.org/2000/svg\" height=\"24px\"viewBox=\"0 0 24 24\"\n",
              "       width=\"24px\">\n",
              "    <path d=\"M0 0h24v24H0V0z\" fill=\"none\"/>\n",
              "    <path d=\"M18.56 5.44l.94 2.06.94-2.06 2.06-.94-2.06-.94-.94-2.06-.94 2.06-2.06.94zm-11 1L8.5 8.5l.94-2.06 2.06-.94-2.06-.94L8.5 2.5l-.94 2.06-2.06.94zm10 10l.94 2.06.94-2.06 2.06-.94-2.06-.94-.94-2.06-.94 2.06-2.06.94z\"/><path d=\"M17.41 7.96l-1.37-1.37c-.4-.4-.92-.59-1.43-.59-.52 0-1.04.2-1.43.59L10.3 9.45l-7.72 7.72c-.78.78-.78 2.05 0 2.83L4 21.41c.39.39.9.59 1.41.59.51 0 1.02-.2 1.41-.59l7.78-7.78 2.81-2.81c.8-.78.8-2.07 0-2.86zM5.41 20L4 18.59l7.72-7.72 1.47 1.35L5.41 20z\"/>\n",
              "  </svg>\n",
              "      </button>\n",
              "      \n",
              "  <style>\n",
              "    .colab-df-container {\n",
              "      display:flex;\n",
              "      flex-wrap:wrap;\n",
              "      gap: 12px;\n",
              "    }\n",
              "\n",
              "    .colab-df-convert {\n",
              "      background-color: #E8F0FE;\n",
              "      border: none;\n",
              "      border-radius: 50%;\n",
              "      cursor: pointer;\n",
              "      display: none;\n",
              "      fill: #1967D2;\n",
              "      height: 32px;\n",
              "      padding: 0 0 0 0;\n",
              "      width: 32px;\n",
              "    }\n",
              "\n",
              "    .colab-df-convert:hover {\n",
              "      background-color: #E2EBFA;\n",
              "      box-shadow: 0px 1px 2px rgba(60, 64, 67, 0.3), 0px 1px 3px 1px rgba(60, 64, 67, 0.15);\n",
              "      fill: #174EA6;\n",
              "    }\n",
              "\n",
              "    [theme=dark] .colab-df-convert {\n",
              "      background-color: #3B4455;\n",
              "      fill: #D2E3FC;\n",
              "    }\n",
              "\n",
              "    [theme=dark] .colab-df-convert:hover {\n",
              "      background-color: #434B5C;\n",
              "      box-shadow: 0px 1px 3px 1px rgba(0, 0, 0, 0.15);\n",
              "      filter: drop-shadow(0px 1px 2px rgba(0, 0, 0, 0.3));\n",
              "      fill: #FFFFFF;\n",
              "    }\n",
              "  </style>\n",
              "\n",
              "      <script>\n",
              "        const buttonEl =\n",
              "          document.querySelector('#df-1ad2d335-3804-4af5-b16f-75bbcf076e70 button.colab-df-convert');\n",
              "        buttonEl.style.display =\n",
              "          google.colab.kernel.accessAllowed ? 'block' : 'none';\n",
              "\n",
              "        async function convertToInteractive(key) {\n",
              "          const element = document.querySelector('#df-1ad2d335-3804-4af5-b16f-75bbcf076e70');\n",
              "          const dataTable =\n",
              "            await google.colab.kernel.invokeFunction('convertToInteractive',\n",
              "                                                     [key], {});\n",
              "          if (!dataTable) return;\n",
              "\n",
              "          const docLinkHtml = 'Like what you see? Visit the ' +\n",
              "            '<a target=\"_blank\" href=https://colab.research.google.com/notebooks/data_table.ipynb>data table notebook</a>'\n",
              "            + ' to learn more about interactive tables.';\n",
              "          element.innerHTML = '';\n",
              "          dataTable['output_type'] = 'display_data';\n",
              "          await google.colab.output.renderOutput(dataTable, element);\n",
              "          const docLink = document.createElement('div');\n",
              "          docLink.innerHTML = docLinkHtml;\n",
              "          element.appendChild(docLink);\n",
              "        }\n",
              "      </script>\n",
              "    </div>\n",
              "  </div>\n",
              "  "
            ],
            "text/plain": [
              "   object  price    type  discount  price_afterdiscount\n",
              "0    ball    1.2    good     0.024                1.176\n",
              "1     pen    1.0  normal     0.020                0.980\n",
              "2  pencil    0.6  normal     0.012                0.588\n",
              "3   paper    0.9  normal     0.018                0.882\n",
              "4     mug    1.7    good     0.034                1.666"
            ]
          },
          "execution_count": 21,
          "metadata": {},
          "output_type": "execute_result"
        }
      ],
      "source": [
        "frame2['price_afterdiscount'] = frame2['price'] - frame2['discount']\n",
        "frame2"
      ]
    },
    {
      "cell_type": "markdown",
      "metadata": {
        "id": "-s2oa3XYOOcC"
      },
      "source": [
        "# Read data from csv file"
      ]
    },
    {
      "cell_type": "markdown",
      "metadata": {
        "id": "ylVSJFdFDK4c"
      },
      "source": [
        "**Example 9**:"
      ]
    },
    {
      "cell_type": "code",
      "execution_count": null,
      "metadata": {
        "id": "y1S8E9LDDKjJ"
      },
      "outputs": [],
      "source": [
        "import pandas as pd\n",
        "dulieuxettuyen = pd.read_csv(\"https://raw.githubusercontent.com/huynhhoc/phantichdulieu/main/Data/dulieuxettuyendaihoc.csv\")"
      ]
    },
    {
      "cell_type": "code",
      "execution_count": null,
      "metadata": {
        "colab": {
          "base_uri": "https://localhost:8080/"
        },
        "id": "YnelupRKIFoJ",
        "outputId": "2b05c984-3ddb-4457-8432-ce239ca333c5"
      },
      "outputs": [
        {
          "data": {
            "text/plain": [
              "pandas.core.frame.DataFrame"
            ]
          },
          "execution_count": 30,
          "metadata": {},
          "output_type": "execute_result"
        }
      ],
      "source": [
        "type(dulieuxettuyen)"
      ]
    },
    {
      "cell_type": "code",
      "execution_count": null,
      "metadata": {
        "colab": {
          "base_uri": "https://localhost:8080/",
          "height": 176
        },
        "id": "GMwfmUDrNfFa",
        "outputId": "752c69cb-df09-47a7-b5dc-d234a244f160"
      },
      "outputs": [
        {
          "data": {
            "text/html": [
              "\n",
              "  <div id=\"df-f21ec999-8443-4f33-ac97-cffa2eb38860\">\n",
              "    <div class=\"colab-df-container\">\n",
              "      <div>\n",
              "<style scoped>\n",
              "    .dataframe tbody tr th:only-of-type {\n",
              "        vertical-align: middle;\n",
              "    }\n",
              "\n",
              "    .dataframe tbody tr th {\n",
              "        vertical-align: top;\n",
              "    }\n",
              "\n",
              "    .dataframe thead th {\n",
              "        text-align: right;\n",
              "    }\n",
              "</style>\n",
              "<table border=\"1\" class=\"dataframe\">\n",
              "  <thead>\n",
              "    <tr style=\"text-align: right;\">\n",
              "      <th></th>\n",
              "      <th>STT</th>\n",
              "      <th>T1</th>\n",
              "      <th>L1</th>\n",
              "      <th>H1</th>\n",
              "      <th>S1</th>\n",
              "      <th>V1</th>\n",
              "      <th>X1</th>\n",
              "      <th>D1</th>\n",
              "      <th>N1</th>\n",
              "      <th>T2</th>\n",
              "      <th>L2</th>\n",
              "      <th>H2</th>\n",
              "      <th>S2</th>\n",
              "      <th>V2</th>\n",
              "      <th>X2</th>\n",
              "      <th>D2</th>\n",
              "      <th>N2</th>\n",
              "      <th>T3</th>\n",
              "      <th>L3</th>\n",
              "      <th>H3</th>\n",
              "      <th>S3</th>\n",
              "      <th>V3</th>\n",
              "      <th>X3</th>\n",
              "      <th>D3</th>\n",
              "      <th>N3</th>\n",
              "      <th>T4</th>\n",
              "      <th>L4</th>\n",
              "      <th>H4</th>\n",
              "      <th>S4</th>\n",
              "      <th>V4</th>\n",
              "      <th>X4</th>\n",
              "      <th>D4</th>\n",
              "      <th>N4</th>\n",
              "      <th>T5</th>\n",
              "      <th>L5</th>\n",
              "      <th>H5</th>\n",
              "      <th>S5</th>\n",
              "      <th>V5</th>\n",
              "      <th>X5</th>\n",
              "      <th>D5</th>\n",
              "      <th>N5</th>\n",
              "      <th>T6</th>\n",
              "      <th>L6</th>\n",
              "      <th>H6</th>\n",
              "      <th>S6</th>\n",
              "      <th>V6</th>\n",
              "      <th>X6</th>\n",
              "      <th>D6</th>\n",
              "      <th>N6</th>\n",
              "      <th>GT</th>\n",
              "      <th>DT</th>\n",
              "      <th>KV</th>\n",
              "      <th>DH1</th>\n",
              "      <th>DH2</th>\n",
              "      <th>DH3</th>\n",
              "      <th>KT</th>\n",
              "    </tr>\n",
              "  </thead>\n",
              "  <tbody>\n",
              "    <tr>\n",
              "      <th>0</th>\n",
              "      <td>1</td>\n",
              "      <td>7.2</td>\n",
              "      <td>7.3</td>\n",
              "      <td>6.3</td>\n",
              "      <td>7.3</td>\n",
              "      <td>7.0</td>\n",
              "      <td>7.9</td>\n",
              "      <td>7.3</td>\n",
              "      <td>5.5</td>\n",
              "      <td>8.4</td>\n",
              "      <td>8.9</td>\n",
              "      <td>5.8</td>\n",
              "      <td>9.0</td>\n",
              "      <td>6.6</td>\n",
              "      <td>8.7</td>\n",
              "      <td>7.2</td>\n",
              "      <td>5.8</td>\n",
              "      <td>7.4</td>\n",
              "      <td>7.4</td>\n",
              "      <td>5.2</td>\n",
              "      <td>6.6</td>\n",
              "      <td>6.9</td>\n",
              "      <td>8.9</td>\n",
              "      <td>8.1</td>\n",
              "      <td>5.8</td>\n",
              "      <td>7.2</td>\n",
              "      <td>7.1</td>\n",
              "      <td>5.9</td>\n",
              "      <td>7.2</td>\n",
              "      <td>6.6</td>\n",
              "      <td>5.8</td>\n",
              "      <td>8.1</td>\n",
              "      <td>5.9</td>\n",
              "      <td>7.4</td>\n",
              "      <td>5.6</td>\n",
              "      <td>6.1</td>\n",
              "      <td>5.7</td>\n",
              "      <td>7.9</td>\n",
              "      <td>5.0</td>\n",
              "      <td>7.4</td>\n",
              "      <td>5.0</td>\n",
              "      <td>6.9</td>\n",
              "      <td>5.7</td>\n",
              "      <td>6.5</td>\n",
              "      <td>7.2</td>\n",
              "      <td>8.4</td>\n",
              "      <td>6.6</td>\n",
              "      <td>7.6</td>\n",
              "      <td>5.9</td>\n",
              "      <td>F</td>\n",
              "      <td>NaN</td>\n",
              "      <td>2NT</td>\n",
              "      <td>3.25</td>\n",
              "      <td>3.25</td>\n",
              "      <td>4.5</td>\n",
              "      <td>A1</td>\n",
              "    </tr>\n",
              "    <tr>\n",
              "      <th>1</th>\n",
              "      <td>2</td>\n",
              "      <td>5.4</td>\n",
              "      <td>3.9</td>\n",
              "      <td>3.9</td>\n",
              "      <td>4.0</td>\n",
              "      <td>5.4</td>\n",
              "      <td>5.4</td>\n",
              "      <td>5.3</td>\n",
              "      <td>2.8</td>\n",
              "      <td>6.3</td>\n",
              "      <td>5.4</td>\n",
              "      <td>3.2</td>\n",
              "      <td>7.2</td>\n",
              "      <td>5.4</td>\n",
              "      <td>6.1</td>\n",
              "      <td>4.7</td>\n",
              "      <td>4.7</td>\n",
              "      <td>4.3</td>\n",
              "      <td>3.8</td>\n",
              "      <td>3.7</td>\n",
              "      <td>3.7</td>\n",
              "      <td>5.2</td>\n",
              "      <td>6.6</td>\n",
              "      <td>5.8</td>\n",
              "      <td>4.4</td>\n",
              "      <td>4.9</td>\n",
              "      <td>2.8</td>\n",
              "      <td>5.1</td>\n",
              "      <td>4.5</td>\n",
              "      <td>5.6</td>\n",
              "      <td>7.0</td>\n",
              "      <td>7.6</td>\n",
              "      <td>4.7</td>\n",
              "      <td>3.0</td>\n",
              "      <td>4.6</td>\n",
              "      <td>4.4</td>\n",
              "      <td>4.9</td>\n",
              "      <td>4.3</td>\n",
              "      <td>6.3</td>\n",
              "      <td>6.7</td>\n",
              "      <td>4.4</td>\n",
              "      <td>4.0</td>\n",
              "      <td>5.4</td>\n",
              "      <td>4.0</td>\n",
              "      <td>5.2</td>\n",
              "      <td>5.5</td>\n",
              "      <td>6.6</td>\n",
              "      <td>6.1</td>\n",
              "      <td>4.4</td>\n",
              "      <td>M</td>\n",
              "      <td>NaN</td>\n",
              "      <td>1</td>\n",
              "      <td>6.00</td>\n",
              "      <td>4.00</td>\n",
              "      <td>3.5</td>\n",
              "      <td>C</td>\n",
              "    </tr>\n",
              "  </tbody>\n",
              "</table>\n",
              "</div>\n",
              "      <button class=\"colab-df-convert\" onclick=\"convertToInteractive('df-f21ec999-8443-4f33-ac97-cffa2eb38860')\"\n",
              "              title=\"Convert this dataframe to an interactive table.\"\n",
              "              style=\"display:none;\">\n",
              "        \n",
              "  <svg xmlns=\"http://www.w3.org/2000/svg\" height=\"24px\"viewBox=\"0 0 24 24\"\n",
              "       width=\"24px\">\n",
              "    <path d=\"M0 0h24v24H0V0z\" fill=\"none\"/>\n",
              "    <path d=\"M18.56 5.44l.94 2.06.94-2.06 2.06-.94-2.06-.94-.94-2.06-.94 2.06-2.06.94zm-11 1L8.5 8.5l.94-2.06 2.06-.94-2.06-.94L8.5 2.5l-.94 2.06-2.06.94zm10 10l.94 2.06.94-2.06 2.06-.94-2.06-.94-.94-2.06-.94 2.06-2.06.94z\"/><path d=\"M17.41 7.96l-1.37-1.37c-.4-.4-.92-.59-1.43-.59-.52 0-1.04.2-1.43.59L10.3 9.45l-7.72 7.72c-.78.78-.78 2.05 0 2.83L4 21.41c.39.39.9.59 1.41.59.51 0 1.02-.2 1.41-.59l7.78-7.78 2.81-2.81c.8-.78.8-2.07 0-2.86zM5.41 20L4 18.59l7.72-7.72 1.47 1.35L5.41 20z\"/>\n",
              "  </svg>\n",
              "      </button>\n",
              "      \n",
              "  <style>\n",
              "    .colab-df-container {\n",
              "      display:flex;\n",
              "      flex-wrap:wrap;\n",
              "      gap: 12px;\n",
              "    }\n",
              "\n",
              "    .colab-df-convert {\n",
              "      background-color: #E8F0FE;\n",
              "      border: none;\n",
              "      border-radius: 50%;\n",
              "      cursor: pointer;\n",
              "      display: none;\n",
              "      fill: #1967D2;\n",
              "      height: 32px;\n",
              "      padding: 0 0 0 0;\n",
              "      width: 32px;\n",
              "    }\n",
              "\n",
              "    .colab-df-convert:hover {\n",
              "      background-color: #E2EBFA;\n",
              "      box-shadow: 0px 1px 2px rgba(60, 64, 67, 0.3), 0px 1px 3px 1px rgba(60, 64, 67, 0.15);\n",
              "      fill: #174EA6;\n",
              "    }\n",
              "\n",
              "    [theme=dark] .colab-df-convert {\n",
              "      background-color: #3B4455;\n",
              "      fill: #D2E3FC;\n",
              "    }\n",
              "\n",
              "    [theme=dark] .colab-df-convert:hover {\n",
              "      background-color: #434B5C;\n",
              "      box-shadow: 0px 1px 3px 1px rgba(0, 0, 0, 0.15);\n",
              "      filter: drop-shadow(0px 1px 2px rgba(0, 0, 0, 0.3));\n",
              "      fill: #FFFFFF;\n",
              "    }\n",
              "  </style>\n",
              "\n",
              "      <script>\n",
              "        const buttonEl =\n",
              "          document.querySelector('#df-f21ec999-8443-4f33-ac97-cffa2eb38860 button.colab-df-convert');\n",
              "        buttonEl.style.display =\n",
              "          google.colab.kernel.accessAllowed ? 'block' : 'none';\n",
              "\n",
              "        async function convertToInteractive(key) {\n",
              "          const element = document.querySelector('#df-f21ec999-8443-4f33-ac97-cffa2eb38860');\n",
              "          const dataTable =\n",
              "            await google.colab.kernel.invokeFunction('convertToInteractive',\n",
              "                                                     [key], {});\n",
              "          if (!dataTable) return;\n",
              "\n",
              "          const docLinkHtml = 'Like what you see? Visit the ' +\n",
              "            '<a target=\"_blank\" href=https://colab.research.google.com/notebooks/data_table.ipynb>data table notebook</a>'\n",
              "            + ' to learn more about interactive tables.';\n",
              "          element.innerHTML = '';\n",
              "          dataTable['output_type'] = 'display_data';\n",
              "          await google.colab.output.renderOutput(dataTable, element);\n",
              "          const docLink = document.createElement('div');\n",
              "          docLink.innerHTML = docLinkHtml;\n",
              "          element.appendChild(docLink);\n",
              "        }\n",
              "      </script>\n",
              "    </div>\n",
              "  </div>\n",
              "  "
            ],
            "text/plain": [
              "   STT   T1   L1   H1   S1   V1   X1   D1  ...   N6  GT  DT   KV   DH1   DH2  DH3  KT\n",
              "0    1  7.2  7.3  6.3  7.3  7.0  7.9  7.3  ...  5.9   F NaN  2NT  3.25  3.25  4.5  A1\n",
              "1    2  5.4  3.9  3.9  4.0  5.4  5.4  5.3  ...  4.4   M NaN    1  6.00  4.00  3.5   C\n",
              "\n",
              "[2 rows x 56 columns]"
            ]
          },
          "execution_count": 34,
          "metadata": {},
          "output_type": "execute_result"
        }
      ],
      "source": [
        "dulieuxettuyen.head(2)"
      ]
    },
    {
      "cell_type": "code",
      "execution_count": null,
      "metadata": {
        "colab": {
          "base_uri": "https://localhost:8080/",
          "height": 176
        },
        "id": "XiX092LpNlkf",
        "outputId": "e45ada05-cff3-4da7-d1a1-85ee0ba5a0dd"
      },
      "outputs": [
        {
          "data": {
            "text/html": [
              "\n",
              "  <div id=\"df-7cf51596-8836-47fa-8f3a-1314546f0ea1\">\n",
              "    <div class=\"colab-df-container\">\n",
              "      <div>\n",
              "<style scoped>\n",
              "    .dataframe tbody tr th:only-of-type {\n",
              "        vertical-align: middle;\n",
              "    }\n",
              "\n",
              "    .dataframe tbody tr th {\n",
              "        vertical-align: top;\n",
              "    }\n",
              "\n",
              "    .dataframe thead th {\n",
              "        text-align: right;\n",
              "    }\n",
              "</style>\n",
              "<table border=\"1\" class=\"dataframe\">\n",
              "  <thead>\n",
              "    <tr style=\"text-align: right;\">\n",
              "      <th></th>\n",
              "      <th>STT</th>\n",
              "      <th>T1</th>\n",
              "      <th>L1</th>\n",
              "      <th>H1</th>\n",
              "      <th>S1</th>\n",
              "      <th>V1</th>\n",
              "      <th>X1</th>\n",
              "      <th>D1</th>\n",
              "      <th>N1</th>\n",
              "      <th>T2</th>\n",
              "      <th>L2</th>\n",
              "      <th>H2</th>\n",
              "      <th>S2</th>\n",
              "      <th>V2</th>\n",
              "      <th>X2</th>\n",
              "      <th>D2</th>\n",
              "      <th>N2</th>\n",
              "      <th>T3</th>\n",
              "      <th>L3</th>\n",
              "      <th>H3</th>\n",
              "      <th>S3</th>\n",
              "      <th>V3</th>\n",
              "      <th>X3</th>\n",
              "      <th>D3</th>\n",
              "      <th>N3</th>\n",
              "      <th>T4</th>\n",
              "      <th>L4</th>\n",
              "      <th>H4</th>\n",
              "      <th>S4</th>\n",
              "      <th>V4</th>\n",
              "      <th>X4</th>\n",
              "      <th>D4</th>\n",
              "      <th>N4</th>\n",
              "      <th>T5</th>\n",
              "      <th>L5</th>\n",
              "      <th>H5</th>\n",
              "      <th>S5</th>\n",
              "      <th>V5</th>\n",
              "      <th>X5</th>\n",
              "      <th>D5</th>\n",
              "      <th>N5</th>\n",
              "      <th>T6</th>\n",
              "      <th>L6</th>\n",
              "      <th>H6</th>\n",
              "      <th>S6</th>\n",
              "      <th>V6</th>\n",
              "      <th>X6</th>\n",
              "      <th>D6</th>\n",
              "      <th>N6</th>\n",
              "      <th>GT</th>\n",
              "      <th>DT</th>\n",
              "      <th>KV</th>\n",
              "      <th>DH1</th>\n",
              "      <th>DH2</th>\n",
              "      <th>DH3</th>\n",
              "      <th>KT</th>\n",
              "    </tr>\n",
              "  </thead>\n",
              "  <tbody>\n",
              "    <tr>\n",
              "      <th>98</th>\n",
              "      <td>99</td>\n",
              "      <td>2.7</td>\n",
              "      <td>1.8</td>\n",
              "      <td>3.4</td>\n",
              "      <td>5.3</td>\n",
              "      <td>4.5</td>\n",
              "      <td>7.9</td>\n",
              "      <td>4.9</td>\n",
              "      <td>3.8</td>\n",
              "      <td>2.8</td>\n",
              "      <td>5.7</td>\n",
              "      <td>5.1</td>\n",
              "      <td>5.0</td>\n",
              "      <td>5.5</td>\n",
              "      <td>6.6</td>\n",
              "      <td>3.9</td>\n",
              "      <td>4.3</td>\n",
              "      <td>6.2</td>\n",
              "      <td>6.9</td>\n",
              "      <td>7.6</td>\n",
              "      <td>6.3</td>\n",
              "      <td>4.7</td>\n",
              "      <td>7.4</td>\n",
              "      <td>5.9</td>\n",
              "      <td>5.7</td>\n",
              "      <td>5.2</td>\n",
              "      <td>5.1</td>\n",
              "      <td>6.8</td>\n",
              "      <td>5.6</td>\n",
              "      <td>3.8</td>\n",
              "      <td>5.9</td>\n",
              "      <td>6.7</td>\n",
              "      <td>4.4</td>\n",
              "      <td>4.1</td>\n",
              "      <td>5.3</td>\n",
              "      <td>5.7</td>\n",
              "      <td>4.6</td>\n",
              "      <td>5.0</td>\n",
              "      <td>5.9</td>\n",
              "      <td>5.3</td>\n",
              "      <td>4.5</td>\n",
              "      <td>4.3</td>\n",
              "      <td>5.6</td>\n",
              "      <td>6.3</td>\n",
              "      <td>4.7</td>\n",
              "      <td>5.0</td>\n",
              "      <td>6.6</td>\n",
              "      <td>5.2</td>\n",
              "      <td>5.9</td>\n",
              "      <td>M</td>\n",
              "      <td>NaN</td>\n",
              "      <td>1</td>\n",
              "      <td>5.00</td>\n",
              "      <td>3.5</td>\n",
              "      <td>5.50</td>\n",
              "      <td>C</td>\n",
              "    </tr>\n",
              "    <tr>\n",
              "      <th>99</th>\n",
              "      <td>100</td>\n",
              "      <td>4.1</td>\n",
              "      <td>5.2</td>\n",
              "      <td>4.9</td>\n",
              "      <td>5.3</td>\n",
              "      <td>5.5</td>\n",
              "      <td>5.4</td>\n",
              "      <td>7.2</td>\n",
              "      <td>5.4</td>\n",
              "      <td>4.4</td>\n",
              "      <td>6.4</td>\n",
              "      <td>4.8</td>\n",
              "      <td>7.2</td>\n",
              "      <td>6.0</td>\n",
              "      <td>6.3</td>\n",
              "      <td>6.8</td>\n",
              "      <td>4.9</td>\n",
              "      <td>6.0</td>\n",
              "      <td>4.9</td>\n",
              "      <td>4.2</td>\n",
              "      <td>6.4</td>\n",
              "      <td>5.7</td>\n",
              "      <td>6.8</td>\n",
              "      <td>7.1</td>\n",
              "      <td>6.2</td>\n",
              "      <td>4.3</td>\n",
              "      <td>4.9</td>\n",
              "      <td>5.3</td>\n",
              "      <td>6.5</td>\n",
              "      <td>5.7</td>\n",
              "      <td>6.8</td>\n",
              "      <td>7.4</td>\n",
              "      <td>5.8</td>\n",
              "      <td>5.6</td>\n",
              "      <td>6.2</td>\n",
              "      <td>6.0</td>\n",
              "      <td>4.7</td>\n",
              "      <td>5.7</td>\n",
              "      <td>7.9</td>\n",
              "      <td>6.9</td>\n",
              "      <td>4.7</td>\n",
              "      <td>5.1</td>\n",
              "      <td>6.4</td>\n",
              "      <td>5.9</td>\n",
              "      <td>5.4</td>\n",
              "      <td>6.3</td>\n",
              "      <td>5.6</td>\n",
              "      <td>6.6</td>\n",
              "      <td>5.8</td>\n",
              "      <td>M</td>\n",
              "      <td>NaN</td>\n",
              "      <td>2NT</td>\n",
              "      <td>5.25</td>\n",
              "      <td>2.5</td>\n",
              "      <td>4.25</td>\n",
              "      <td>C</td>\n",
              "    </tr>\n",
              "  </tbody>\n",
              "</table>\n",
              "</div>\n",
              "      <button class=\"colab-df-convert\" onclick=\"convertToInteractive('df-7cf51596-8836-47fa-8f3a-1314546f0ea1')\"\n",
              "              title=\"Convert this dataframe to an interactive table.\"\n",
              "              style=\"display:none;\">\n",
              "        \n",
              "  <svg xmlns=\"http://www.w3.org/2000/svg\" height=\"24px\"viewBox=\"0 0 24 24\"\n",
              "       width=\"24px\">\n",
              "    <path d=\"M0 0h24v24H0V0z\" fill=\"none\"/>\n",
              "    <path d=\"M18.56 5.44l.94 2.06.94-2.06 2.06-.94-2.06-.94-.94-2.06-.94 2.06-2.06.94zm-11 1L8.5 8.5l.94-2.06 2.06-.94-2.06-.94L8.5 2.5l-.94 2.06-2.06.94zm10 10l.94 2.06.94-2.06 2.06-.94-2.06-.94-.94-2.06-.94 2.06-2.06.94z\"/><path d=\"M17.41 7.96l-1.37-1.37c-.4-.4-.92-.59-1.43-.59-.52 0-1.04.2-1.43.59L10.3 9.45l-7.72 7.72c-.78.78-.78 2.05 0 2.83L4 21.41c.39.39.9.59 1.41.59.51 0 1.02-.2 1.41-.59l7.78-7.78 2.81-2.81c.8-.78.8-2.07 0-2.86zM5.41 20L4 18.59l7.72-7.72 1.47 1.35L5.41 20z\"/>\n",
              "  </svg>\n",
              "      </button>\n",
              "      \n",
              "  <style>\n",
              "    .colab-df-container {\n",
              "      display:flex;\n",
              "      flex-wrap:wrap;\n",
              "      gap: 12px;\n",
              "    }\n",
              "\n",
              "    .colab-df-convert {\n",
              "      background-color: #E8F0FE;\n",
              "      border: none;\n",
              "      border-radius: 50%;\n",
              "      cursor: pointer;\n",
              "      display: none;\n",
              "      fill: #1967D2;\n",
              "      height: 32px;\n",
              "      padding: 0 0 0 0;\n",
              "      width: 32px;\n",
              "    }\n",
              "\n",
              "    .colab-df-convert:hover {\n",
              "      background-color: #E2EBFA;\n",
              "      box-shadow: 0px 1px 2px rgba(60, 64, 67, 0.3), 0px 1px 3px 1px rgba(60, 64, 67, 0.15);\n",
              "      fill: #174EA6;\n",
              "    }\n",
              "\n",
              "    [theme=dark] .colab-df-convert {\n",
              "      background-color: #3B4455;\n",
              "      fill: #D2E3FC;\n",
              "    }\n",
              "\n",
              "    [theme=dark] .colab-df-convert:hover {\n",
              "      background-color: #434B5C;\n",
              "      box-shadow: 0px 1px 3px 1px rgba(0, 0, 0, 0.15);\n",
              "      filter: drop-shadow(0px 1px 2px rgba(0, 0, 0, 0.3));\n",
              "      fill: #FFFFFF;\n",
              "    }\n",
              "  </style>\n",
              "\n",
              "      <script>\n",
              "        const buttonEl =\n",
              "          document.querySelector('#df-7cf51596-8836-47fa-8f3a-1314546f0ea1 button.colab-df-convert');\n",
              "        buttonEl.style.display =\n",
              "          google.colab.kernel.accessAllowed ? 'block' : 'none';\n",
              "\n",
              "        async function convertToInteractive(key) {\n",
              "          const element = document.querySelector('#df-7cf51596-8836-47fa-8f3a-1314546f0ea1');\n",
              "          const dataTable =\n",
              "            await google.colab.kernel.invokeFunction('convertToInteractive',\n",
              "                                                     [key], {});\n",
              "          if (!dataTable) return;\n",
              "\n",
              "          const docLinkHtml = 'Like what you see? Visit the ' +\n",
              "            '<a target=\"_blank\" href=https://colab.research.google.com/notebooks/data_table.ipynb>data table notebook</a>'\n",
              "            + ' to learn more about interactive tables.';\n",
              "          element.innerHTML = '';\n",
              "          dataTable['output_type'] = 'display_data';\n",
              "          await google.colab.output.renderOutput(dataTable, element);\n",
              "          const docLink = document.createElement('div');\n",
              "          docLink.innerHTML = docLinkHtml;\n",
              "          element.appendChild(docLink);\n",
              "        }\n",
              "      </script>\n",
              "    </div>\n",
              "  </div>\n",
              "  "
            ],
            "text/plain": [
              "    STT   T1   L1   H1   S1   V1   X1   D1  ...   N6  GT  DT   KV   DH1  DH2   DH3  KT\n",
              "98   99  2.7  1.8  3.4  5.3  4.5  7.9  4.9  ...  5.9   M NaN    1  5.00  3.5  5.50   C\n",
              "99  100  4.1  5.2  4.9  5.3  5.5  5.4  7.2  ...  5.8   M NaN  2NT  5.25  2.5  4.25   C\n",
              "\n",
              "[2 rows x 56 columns]"
            ]
          },
          "execution_count": 33,
          "metadata": {},
          "output_type": "execute_result"
        }
      ],
      "source": [
        "dulieuxettuyen.tail(2)"
      ]
    },
    {
      "cell_type": "code",
      "execution_count": null,
      "metadata": {
        "id": "EdShlKl2JX7K"
      },
      "outputs": [],
      "source": [
        "dulieuxettuyenKI = pd.DataFrame(dulieuxettuyen, columns=['T1',\t'L1',\t'H1',\t'S1',\t'V1',\t'X1',\t'D1',\t'N1'])"
      ]
    },
    {
      "cell_type": "code",
      "execution_count": null,
      "metadata": {
        "colab": {
          "base_uri": "https://localhost:8080/"
        },
        "id": "JWCXqyHzJp6C",
        "outputId": "d268a234-accd-43d3-ce7e-88e19fca49b1"
      },
      "outputs": [
        {
          "data": {
            "text/plain": [
              "Index(['T1', 'L1', 'H1', 'S1', 'V1', 'X1', 'D1', 'N1'], dtype='object')"
            ]
          },
          "execution_count": 36,
          "metadata": {},
          "output_type": "execute_result"
        }
      ],
      "source": [
        "dulieuxettuyenKI.columns"
      ]
    },
    {
      "cell_type": "code",
      "execution_count": null,
      "metadata": {
        "colab": {
          "base_uri": "https://localhost:8080/",
          "height": 143
        },
        "id": "lH_Ts0awJv1i",
        "outputId": "0bade934-2dc6-4ff1-eb62-befd9bb23a3e"
      },
      "outputs": [
        {
          "data": {
            "text/html": [
              "\n",
              "  <div id=\"df-17951189-f926-4a37-bbd5-3e9568336c1a\">\n",
              "    <div class=\"colab-df-container\">\n",
              "      <div>\n",
              "<style scoped>\n",
              "    .dataframe tbody tr th:only-of-type {\n",
              "        vertical-align: middle;\n",
              "    }\n",
              "\n",
              "    .dataframe tbody tr th {\n",
              "        vertical-align: top;\n",
              "    }\n",
              "\n",
              "    .dataframe thead th {\n",
              "        text-align: right;\n",
              "    }\n",
              "</style>\n",
              "<table border=\"1\" class=\"dataframe\">\n",
              "  <thead>\n",
              "    <tr style=\"text-align: right;\">\n",
              "      <th></th>\n",
              "      <th>T1</th>\n",
              "      <th>L1</th>\n",
              "      <th>H1</th>\n",
              "      <th>S1</th>\n",
              "      <th>V1</th>\n",
              "      <th>X1</th>\n",
              "      <th>D1</th>\n",
              "      <th>N1</th>\n",
              "    </tr>\n",
              "  </thead>\n",
              "  <tbody>\n",
              "    <tr>\n",
              "      <th>97</th>\n",
              "      <td>8.8</td>\n",
              "      <td>5.5</td>\n",
              "      <td>7.4</td>\n",
              "      <td>7.7</td>\n",
              "      <td>6.2</td>\n",
              "      <td>7.3</td>\n",
              "      <td>8.1</td>\n",
              "      <td>4.5</td>\n",
              "    </tr>\n",
              "    <tr>\n",
              "      <th>98</th>\n",
              "      <td>2.7</td>\n",
              "      <td>1.8</td>\n",
              "      <td>3.4</td>\n",
              "      <td>5.3</td>\n",
              "      <td>4.5</td>\n",
              "      <td>7.9</td>\n",
              "      <td>4.9</td>\n",
              "      <td>3.8</td>\n",
              "    </tr>\n",
              "    <tr>\n",
              "      <th>99</th>\n",
              "      <td>4.1</td>\n",
              "      <td>5.2</td>\n",
              "      <td>4.9</td>\n",
              "      <td>5.3</td>\n",
              "      <td>5.5</td>\n",
              "      <td>5.4</td>\n",
              "      <td>7.2</td>\n",
              "      <td>5.4</td>\n",
              "    </tr>\n",
              "  </tbody>\n",
              "</table>\n",
              "</div>\n",
              "      <button class=\"colab-df-convert\" onclick=\"convertToInteractive('df-17951189-f926-4a37-bbd5-3e9568336c1a')\"\n",
              "              title=\"Convert this dataframe to an interactive table.\"\n",
              "              style=\"display:none;\">\n",
              "        \n",
              "  <svg xmlns=\"http://www.w3.org/2000/svg\" height=\"24px\"viewBox=\"0 0 24 24\"\n",
              "       width=\"24px\">\n",
              "    <path d=\"M0 0h24v24H0V0z\" fill=\"none\"/>\n",
              "    <path d=\"M18.56 5.44l.94 2.06.94-2.06 2.06-.94-2.06-.94-.94-2.06-.94 2.06-2.06.94zm-11 1L8.5 8.5l.94-2.06 2.06-.94-2.06-.94L8.5 2.5l-.94 2.06-2.06.94zm10 10l.94 2.06.94-2.06 2.06-.94-2.06-.94-.94-2.06-.94 2.06-2.06.94z\"/><path d=\"M17.41 7.96l-1.37-1.37c-.4-.4-.92-.59-1.43-.59-.52 0-1.04.2-1.43.59L10.3 9.45l-7.72 7.72c-.78.78-.78 2.05 0 2.83L4 21.41c.39.39.9.59 1.41.59.51 0 1.02-.2 1.41-.59l7.78-7.78 2.81-2.81c.8-.78.8-2.07 0-2.86zM5.41 20L4 18.59l7.72-7.72 1.47 1.35L5.41 20z\"/>\n",
              "  </svg>\n",
              "      </button>\n",
              "      \n",
              "  <style>\n",
              "    .colab-df-container {\n",
              "      display:flex;\n",
              "      flex-wrap:wrap;\n",
              "      gap: 12px;\n",
              "    }\n",
              "\n",
              "    .colab-df-convert {\n",
              "      background-color: #E8F0FE;\n",
              "      border: none;\n",
              "      border-radius: 50%;\n",
              "      cursor: pointer;\n",
              "      display: none;\n",
              "      fill: #1967D2;\n",
              "      height: 32px;\n",
              "      padding: 0 0 0 0;\n",
              "      width: 32px;\n",
              "    }\n",
              "\n",
              "    .colab-df-convert:hover {\n",
              "      background-color: #E2EBFA;\n",
              "      box-shadow: 0px 1px 2px rgba(60, 64, 67, 0.3), 0px 1px 3px 1px rgba(60, 64, 67, 0.15);\n",
              "      fill: #174EA6;\n",
              "    }\n",
              "\n",
              "    [theme=dark] .colab-df-convert {\n",
              "      background-color: #3B4455;\n",
              "      fill: #D2E3FC;\n",
              "    }\n",
              "\n",
              "    [theme=dark] .colab-df-convert:hover {\n",
              "      background-color: #434B5C;\n",
              "      box-shadow: 0px 1px 3px 1px rgba(0, 0, 0, 0.15);\n",
              "      filter: drop-shadow(0px 1px 2px rgba(0, 0, 0, 0.3));\n",
              "      fill: #FFFFFF;\n",
              "    }\n",
              "  </style>\n",
              "\n",
              "      <script>\n",
              "        const buttonEl =\n",
              "          document.querySelector('#df-17951189-f926-4a37-bbd5-3e9568336c1a button.colab-df-convert');\n",
              "        buttonEl.style.display =\n",
              "          google.colab.kernel.accessAllowed ? 'block' : 'none';\n",
              "\n",
              "        async function convertToInteractive(key) {\n",
              "          const element = document.querySelector('#df-17951189-f926-4a37-bbd5-3e9568336c1a');\n",
              "          const dataTable =\n",
              "            await google.colab.kernel.invokeFunction('convertToInteractive',\n",
              "                                                     [key], {});\n",
              "          if (!dataTable) return;\n",
              "\n",
              "          const docLinkHtml = 'Like what you see? Visit the ' +\n",
              "            '<a target=\"_blank\" href=https://colab.research.google.com/notebooks/data_table.ipynb>data table notebook</a>'\n",
              "            + ' to learn more about interactive tables.';\n",
              "          element.innerHTML = '';\n",
              "          dataTable['output_type'] = 'display_data';\n",
              "          await google.colab.output.renderOutput(dataTable, element);\n",
              "          const docLink = document.createElement('div');\n",
              "          docLink.innerHTML = docLinkHtml;\n",
              "          element.appendChild(docLink);\n",
              "        }\n",
              "      </script>\n",
              "    </div>\n",
              "  </div>\n",
              "  "
            ],
            "text/plain": [
              "     T1   L1   H1   S1   V1   X1   D1   N1\n",
              "97  8.8  5.5  7.4  7.7  6.2  7.3  8.1  4.5\n",
              "98  2.7  1.8  3.4  5.3  4.5  7.9  4.9  3.8\n",
              "99  4.1  5.2  4.9  5.3  5.5  5.4  7.2  5.4"
            ]
          },
          "execution_count": 37,
          "metadata": {},
          "output_type": "execute_result"
        }
      ],
      "source": [
        "dulieuxettuyenKI.tail(3)"
      ]
    },
    {
      "cell_type": "markdown",
      "metadata": {
        "id": "cJxrmy_ardfS"
      },
      "source": [
        "Read data without header"
      ]
    },
    {
      "cell_type": "code",
      "execution_count": null,
      "metadata": {
        "id": "h2o81ITtrOrc"
      },
      "outputs": [],
      "source": [
        "import pandas as pd\n",
        "dltuyensinh_withoutHeader = pd.read_csv(\"https://raw.githubusercontent.com/huynhhoc/phantichdulieu/main/Data/dulieuxettuyendaihoc.csv\", header = None)"
      ]
    },
    {
      "cell_type": "code",
      "execution_count": null,
      "metadata": {
        "colab": {
          "base_uri": "https://localhost:8080/",
          "height": 270
        },
        "id": "_p9XOHezO07Z",
        "outputId": "c25481cc-b61d-44ee-fff0-1e1aa2288029"
      },
      "outputs": [
        {
          "data": {
            "text/html": [
              "\n",
              "  <div id=\"df-2ecae0c7-01e8-4a1f-aea3-3b707b41c2d8\">\n",
              "    <div class=\"colab-df-container\">\n",
              "      <div>\n",
              "<style scoped>\n",
              "    .dataframe tbody tr th:only-of-type {\n",
              "        vertical-align: middle;\n",
              "    }\n",
              "\n",
              "    .dataframe tbody tr th {\n",
              "        vertical-align: top;\n",
              "    }\n",
              "\n",
              "    .dataframe thead th {\n",
              "        text-align: right;\n",
              "    }\n",
              "</style>\n",
              "<table border=\"1\" class=\"dataframe\">\n",
              "  <thead>\n",
              "    <tr style=\"text-align: right;\">\n",
              "      <th></th>\n",
              "      <th>0</th>\n",
              "      <th>1</th>\n",
              "      <th>2</th>\n",
              "      <th>3</th>\n",
              "      <th>4</th>\n",
              "      <th>5</th>\n",
              "      <th>6</th>\n",
              "      <th>7</th>\n",
              "      <th>8</th>\n",
              "      <th>9</th>\n",
              "      <th>10</th>\n",
              "      <th>11</th>\n",
              "      <th>12</th>\n",
              "      <th>13</th>\n",
              "      <th>14</th>\n",
              "      <th>15</th>\n",
              "      <th>16</th>\n",
              "      <th>17</th>\n",
              "      <th>18</th>\n",
              "      <th>19</th>\n",
              "      <th>20</th>\n",
              "      <th>21</th>\n",
              "      <th>22</th>\n",
              "      <th>23</th>\n",
              "      <th>24</th>\n",
              "      <th>25</th>\n",
              "      <th>26</th>\n",
              "      <th>27</th>\n",
              "      <th>28</th>\n",
              "      <th>29</th>\n",
              "      <th>30</th>\n",
              "      <th>31</th>\n",
              "      <th>32</th>\n",
              "      <th>33</th>\n",
              "      <th>34</th>\n",
              "      <th>35</th>\n",
              "      <th>36</th>\n",
              "      <th>37</th>\n",
              "      <th>38</th>\n",
              "      <th>39</th>\n",
              "      <th>40</th>\n",
              "      <th>41</th>\n",
              "      <th>42</th>\n",
              "      <th>43</th>\n",
              "      <th>44</th>\n",
              "      <th>45</th>\n",
              "      <th>46</th>\n",
              "      <th>47</th>\n",
              "      <th>48</th>\n",
              "      <th>49</th>\n",
              "      <th>50</th>\n",
              "      <th>51</th>\n",
              "      <th>52</th>\n",
              "      <th>53</th>\n",
              "      <th>54</th>\n",
              "      <th>55</th>\n",
              "    </tr>\n",
              "  </thead>\n",
              "  <tbody>\n",
              "    <tr>\n",
              "      <th>0</th>\n",
              "      <td>STT</td>\n",
              "      <td>T1</td>\n",
              "      <td>L1</td>\n",
              "      <td>H1</td>\n",
              "      <td>S1</td>\n",
              "      <td>V1</td>\n",
              "      <td>X1</td>\n",
              "      <td>D1</td>\n",
              "      <td>N1</td>\n",
              "      <td>T2</td>\n",
              "      <td>L2</td>\n",
              "      <td>H2</td>\n",
              "      <td>S2</td>\n",
              "      <td>V2</td>\n",
              "      <td>X2</td>\n",
              "      <td>D2</td>\n",
              "      <td>N2</td>\n",
              "      <td>T3</td>\n",
              "      <td>L3</td>\n",
              "      <td>H3</td>\n",
              "      <td>S3</td>\n",
              "      <td>V3</td>\n",
              "      <td>X3</td>\n",
              "      <td>D3</td>\n",
              "      <td>N3</td>\n",
              "      <td>T4</td>\n",
              "      <td>L4</td>\n",
              "      <td>H4</td>\n",
              "      <td>S4</td>\n",
              "      <td>V4</td>\n",
              "      <td>X4</td>\n",
              "      <td>D4</td>\n",
              "      <td>N4</td>\n",
              "      <td>T5</td>\n",
              "      <td>L5</td>\n",
              "      <td>H5</td>\n",
              "      <td>S5</td>\n",
              "      <td>V5</td>\n",
              "      <td>X5</td>\n",
              "      <td>D5</td>\n",
              "      <td>N5</td>\n",
              "      <td>T6</td>\n",
              "      <td>L6</td>\n",
              "      <td>H6</td>\n",
              "      <td>S6</td>\n",
              "      <td>V6</td>\n",
              "      <td>X6</td>\n",
              "      <td>D6</td>\n",
              "      <td>N6</td>\n",
              "      <td>GT</td>\n",
              "      <td>DT</td>\n",
              "      <td>KV</td>\n",
              "      <td>DH1</td>\n",
              "      <td>DH2</td>\n",
              "      <td>DH3</td>\n",
              "      <td>KT</td>\n",
              "    </tr>\n",
              "    <tr>\n",
              "      <th>1</th>\n",
              "      <td>1</td>\n",
              "      <td>7.2</td>\n",
              "      <td>7.3</td>\n",
              "      <td>6.3</td>\n",
              "      <td>7.3</td>\n",
              "      <td>7</td>\n",
              "      <td>7.9</td>\n",
              "      <td>7.3</td>\n",
              "      <td>5.5</td>\n",
              "      <td>8.4</td>\n",
              "      <td>8.9</td>\n",
              "      <td>5.8</td>\n",
              "      <td>9</td>\n",
              "      <td>6.6</td>\n",
              "      <td>8.7</td>\n",
              "      <td>7.2</td>\n",
              "      <td>5.8</td>\n",
              "      <td>7.4</td>\n",
              "      <td>7.4</td>\n",
              "      <td>5.2</td>\n",
              "      <td>6.6</td>\n",
              "      <td>6.9</td>\n",
              "      <td>8.9</td>\n",
              "      <td>8.1</td>\n",
              "      <td>5.8</td>\n",
              "      <td>7.2</td>\n",
              "      <td>7.1</td>\n",
              "      <td>5.9</td>\n",
              "      <td>7.2</td>\n",
              "      <td>6.6</td>\n",
              "      <td>5.8</td>\n",
              "      <td>8.1</td>\n",
              "      <td>5.9</td>\n",
              "      <td>7.4</td>\n",
              "      <td>5.6</td>\n",
              "      <td>6.1</td>\n",
              "      <td>5.7</td>\n",
              "      <td>7.9</td>\n",
              "      <td>5</td>\n",
              "      <td>7.4</td>\n",
              "      <td>5</td>\n",
              "      <td>6.9</td>\n",
              "      <td>5.7</td>\n",
              "      <td>6.5</td>\n",
              "      <td>7.2</td>\n",
              "      <td>8.4</td>\n",
              "      <td>6.6</td>\n",
              "      <td>7.6</td>\n",
              "      <td>5.9</td>\n",
              "      <td>F</td>\n",
              "      <td>NaN</td>\n",
              "      <td>2NT</td>\n",
              "      <td>3.25</td>\n",
              "      <td>3.25</td>\n",
              "      <td>4.5</td>\n",
              "      <td>A1</td>\n",
              "    </tr>\n",
              "    <tr>\n",
              "      <th>2</th>\n",
              "      <td>2</td>\n",
              "      <td>5.4</td>\n",
              "      <td>3.9</td>\n",
              "      <td>3.9</td>\n",
              "      <td>4</td>\n",
              "      <td>5.4</td>\n",
              "      <td>5.4</td>\n",
              "      <td>5.3</td>\n",
              "      <td>2.8</td>\n",
              "      <td>6.3</td>\n",
              "      <td>5.4</td>\n",
              "      <td>3.2</td>\n",
              "      <td>7.2</td>\n",
              "      <td>5.4</td>\n",
              "      <td>6.1</td>\n",
              "      <td>4.7</td>\n",
              "      <td>4.7</td>\n",
              "      <td>4.3</td>\n",
              "      <td>3.8</td>\n",
              "      <td>3.7</td>\n",
              "      <td>3.7</td>\n",
              "      <td>5.2</td>\n",
              "      <td>6.6</td>\n",
              "      <td>5.8</td>\n",
              "      <td>4.4</td>\n",
              "      <td>4.9</td>\n",
              "      <td>2.8</td>\n",
              "      <td>5.1</td>\n",
              "      <td>4.5</td>\n",
              "      <td>5.6</td>\n",
              "      <td>7</td>\n",
              "      <td>7.6</td>\n",
              "      <td>4.7</td>\n",
              "      <td>3</td>\n",
              "      <td>4.6</td>\n",
              "      <td>4.4</td>\n",
              "      <td>4.9</td>\n",
              "      <td>4.3</td>\n",
              "      <td>6.3</td>\n",
              "      <td>6.7</td>\n",
              "      <td>4.4</td>\n",
              "      <td>4</td>\n",
              "      <td>5.4</td>\n",
              "      <td>4</td>\n",
              "      <td>5.2</td>\n",
              "      <td>5.5</td>\n",
              "      <td>6.6</td>\n",
              "      <td>6.1</td>\n",
              "      <td>4.4</td>\n",
              "      <td>M</td>\n",
              "      <td>NaN</td>\n",
              "      <td>1</td>\n",
              "      <td>6</td>\n",
              "      <td>4</td>\n",
              "      <td>3.5</td>\n",
              "      <td>C</td>\n",
              "    </tr>\n",
              "    <tr>\n",
              "      <th>3</th>\n",
              "      <td>3</td>\n",
              "      <td>5.6</td>\n",
              "      <td>6.8</td>\n",
              "      <td>7.2</td>\n",
              "      <td>7.5</td>\n",
              "      <td>4.3</td>\n",
              "      <td>7.4</td>\n",
              "      <td>5.8</td>\n",
              "      <td>3.2</td>\n",
              "      <td>5</td>\n",
              "      <td>4.9</td>\n",
              "      <td>6.2</td>\n",
              "      <td>6.1</td>\n",
              "      <td>5.3</td>\n",
              "      <td>7.1</td>\n",
              "      <td>4</td>\n",
              "      <td>4.9</td>\n",
              "      <td>2.8</td>\n",
              "      <td>6.3</td>\n",
              "      <td>6.2</td>\n",
              "      <td>5.6</td>\n",
              "      <td>2.5</td>\n",
              "      <td>5.8</td>\n",
              "      <td>5.1</td>\n",
              "      <td>3.7</td>\n",
              "      <td>6.1</td>\n",
              "      <td>6.1</td>\n",
              "      <td>5.8</td>\n",
              "      <td>6.8</td>\n",
              "      <td>4</td>\n",
              "      <td>6.4</td>\n",
              "      <td>5.3</td>\n",
              "      <td>4.1</td>\n",
              "      <td>4.8</td>\n",
              "      <td>5.1</td>\n",
              "      <td>6.4</td>\n",
              "      <td>5.1</td>\n",
              "      <td>4</td>\n",
              "      <td>6.9</td>\n",
              "      <td>3.9</td>\n",
              "      <td>3.2</td>\n",
              "      <td>5.7</td>\n",
              "      <td>6.6</td>\n",
              "      <td>6.8</td>\n",
              "      <td>6.8</td>\n",
              "      <td>4.1</td>\n",
              "      <td>7.9</td>\n",
              "      <td>8.1</td>\n",
              "      <td>4.6</td>\n",
              "      <td>M</td>\n",
              "      <td>NaN</td>\n",
              "      <td>1</td>\n",
              "      <td>5</td>\n",
              "      <td>6.75</td>\n",
              "      <td>4</td>\n",
              "      <td>C</td>\n",
              "    </tr>\n",
              "    <tr>\n",
              "      <th>4</th>\n",
              "      <td>4</td>\n",
              "      <td>6.6</td>\n",
              "      <td>6.4</td>\n",
              "      <td>5.3</td>\n",
              "      <td>6.9</td>\n",
              "      <td>5.4</td>\n",
              "      <td>7.3</td>\n",
              "      <td>6.4</td>\n",
              "      <td>5.8</td>\n",
              "      <td>5.1</td>\n",
              "      <td>6.2</td>\n",
              "      <td>5.5</td>\n",
              "      <td>5.5</td>\n",
              "      <td>4.4</td>\n",
              "      <td>6.5</td>\n",
              "      <td>4.9</td>\n",
              "      <td>4.4</td>\n",
              "      <td>5.9</td>\n",
              "      <td>7.3</td>\n",
              "      <td>5.9</td>\n",
              "      <td>4.9</td>\n",
              "      <td>5.7</td>\n",
              "      <td>6.8</td>\n",
              "      <td>6.8</td>\n",
              "      <td>5.4</td>\n",
              "      <td>4.1</td>\n",
              "      <td>4.4</td>\n",
              "      <td>4.1</td>\n",
              "      <td>7.3</td>\n",
              "      <td>5.3</td>\n",
              "      <td>7.1</td>\n",
              "      <td>7.3</td>\n",
              "      <td>5.6</td>\n",
              "      <td>6.1</td>\n",
              "      <td>4.9</td>\n",
              "      <td>5.3</td>\n",
              "      <td>4</td>\n",
              "      <td>6.2</td>\n",
              "      <td>5.5</td>\n",
              "      <td>5.9</td>\n",
              "      <td>6.5</td>\n",
              "      <td>7.4</td>\n",
              "      <td>5.6</td>\n",
              "      <td>6.6</td>\n",
              "      <td>6.8</td>\n",
              "      <td>6.6</td>\n",
              "      <td>7.1</td>\n",
              "      <td>7.3</td>\n",
              "      <td>7.4</td>\n",
              "      <td>M</td>\n",
              "      <td>NaN</td>\n",
              "      <td>1</td>\n",
              "      <td>4.25</td>\n",
              "      <td>4.25</td>\n",
              "      <td>5.25</td>\n",
              "      <td>D1</td>\n",
              "    </tr>\n",
              "  </tbody>\n",
              "</table>\n",
              "</div>\n",
              "      <button class=\"colab-df-convert\" onclick=\"convertToInteractive('df-2ecae0c7-01e8-4a1f-aea3-3b707b41c2d8')\"\n",
              "              title=\"Convert this dataframe to an interactive table.\"\n",
              "              style=\"display:none;\">\n",
              "        \n",
              "  <svg xmlns=\"http://www.w3.org/2000/svg\" height=\"24px\"viewBox=\"0 0 24 24\"\n",
              "       width=\"24px\">\n",
              "    <path d=\"M0 0h24v24H0V0z\" fill=\"none\"/>\n",
              "    <path d=\"M18.56 5.44l.94 2.06.94-2.06 2.06-.94-2.06-.94-.94-2.06-.94 2.06-2.06.94zm-11 1L8.5 8.5l.94-2.06 2.06-.94-2.06-.94L8.5 2.5l-.94 2.06-2.06.94zm10 10l.94 2.06.94-2.06 2.06-.94-2.06-.94-.94-2.06-.94 2.06-2.06.94z\"/><path d=\"M17.41 7.96l-1.37-1.37c-.4-.4-.92-.59-1.43-.59-.52 0-1.04.2-1.43.59L10.3 9.45l-7.72 7.72c-.78.78-.78 2.05 0 2.83L4 21.41c.39.39.9.59 1.41.59.51 0 1.02-.2 1.41-.59l7.78-7.78 2.81-2.81c.8-.78.8-2.07 0-2.86zM5.41 20L4 18.59l7.72-7.72 1.47 1.35L5.41 20z\"/>\n",
              "  </svg>\n",
              "      </button>\n",
              "      \n",
              "  <style>\n",
              "    .colab-df-container {\n",
              "      display:flex;\n",
              "      flex-wrap:wrap;\n",
              "      gap: 12px;\n",
              "    }\n",
              "\n",
              "    .colab-df-convert {\n",
              "      background-color: #E8F0FE;\n",
              "      border: none;\n",
              "      border-radius: 50%;\n",
              "      cursor: pointer;\n",
              "      display: none;\n",
              "      fill: #1967D2;\n",
              "      height: 32px;\n",
              "      padding: 0 0 0 0;\n",
              "      width: 32px;\n",
              "    }\n",
              "\n",
              "    .colab-df-convert:hover {\n",
              "      background-color: #E2EBFA;\n",
              "      box-shadow: 0px 1px 2px rgba(60, 64, 67, 0.3), 0px 1px 3px 1px rgba(60, 64, 67, 0.15);\n",
              "      fill: #174EA6;\n",
              "    }\n",
              "\n",
              "    [theme=dark] .colab-df-convert {\n",
              "      background-color: #3B4455;\n",
              "      fill: #D2E3FC;\n",
              "    }\n",
              "\n",
              "    [theme=dark] .colab-df-convert:hover {\n",
              "      background-color: #434B5C;\n",
              "      box-shadow: 0px 1px 3px 1px rgba(0, 0, 0, 0.15);\n",
              "      filter: drop-shadow(0px 1px 2px rgba(0, 0, 0, 0.3));\n",
              "      fill: #FFFFFF;\n",
              "    }\n",
              "  </style>\n",
              "\n",
              "      <script>\n",
              "        const buttonEl =\n",
              "          document.querySelector('#df-2ecae0c7-01e8-4a1f-aea3-3b707b41c2d8 button.colab-df-convert');\n",
              "        buttonEl.style.display =\n",
              "          google.colab.kernel.accessAllowed ? 'block' : 'none';\n",
              "\n",
              "        async function convertToInteractive(key) {\n",
              "          const element = document.querySelector('#df-2ecae0c7-01e8-4a1f-aea3-3b707b41c2d8');\n",
              "          const dataTable =\n",
              "            await google.colab.kernel.invokeFunction('convertToInteractive',\n",
              "                                                     [key], {});\n",
              "          if (!dataTable) return;\n",
              "\n",
              "          const docLinkHtml = 'Like what you see? Visit the ' +\n",
              "            '<a target=\"_blank\" href=https://colab.research.google.com/notebooks/data_table.ipynb>data table notebook</a>'\n",
              "            + ' to learn more about interactive tables.';\n",
              "          element.innerHTML = '';\n",
              "          dataTable['output_type'] = 'display_data';\n",
              "          await google.colab.output.renderOutput(dataTable, element);\n",
              "          const docLink = document.createElement('div');\n",
              "          docLink.innerHTML = docLinkHtml;\n",
              "          element.appendChild(docLink);\n",
              "        }\n",
              "      </script>\n",
              "    </div>\n",
              "  </div>\n",
              "  "
            ],
            "text/plain": [
              "    0    1    2    3    4    5    6   ...  49   50   51    52    53    54  55\n",
              "0  STT   T1   L1   H1   S1   V1   X1  ...  GT   DT   KV   DH1   DH2   DH3  KT\n",
              "1    1  7.2  7.3  6.3  7.3    7  7.9  ...   F  NaN  2NT  3.25  3.25   4.5  A1\n",
              "2    2  5.4  3.9  3.9    4  5.4  5.4  ...   M  NaN    1     6     4   3.5   C\n",
              "3    3  5.6  6.8  7.2  7.5  4.3  7.4  ...   M  NaN    1     5  6.75     4   C\n",
              "4    4  6.6  6.4  5.3  6.9  5.4  7.3  ...   M  NaN    1  4.25  4.25  5.25  D1\n",
              "\n",
              "[5 rows x 56 columns]"
            ]
          },
          "execution_count": 39,
          "metadata": {},
          "output_type": "execute_result"
        }
      ],
      "source": [
        "dltuyensinh_withoutHeader.head(5)"
      ]
    },
    {
      "cell_type": "markdown",
      "metadata": {
        "id": "8zNQ_zk7P8J6"
      },
      "source": [
        "**Read JSON**\n",
        "\n",
        "when you have a dataframe and you need to convert it into a JSON file. So, define a dataframe and then call the to_json()\n",
        "function on it, passing as an argument the name of the file that you want to create.\n",
        "\n",
        "The converse is possible, using the read_json() with the name of the file passed as\n",
        "an argument"
      ]
    },
    {
      "cell_type": "markdown",
      "metadata": {
        "id": "qpu1UGTDRPLX"
      },
      "source": [
        "**Example 10**:"
      ]
    },
    {
      "cell_type": "code",
      "execution_count": null,
      "metadata": {
        "colab": {
          "base_uri": "https://localhost:8080/"
        },
        "id": "8LcHk91qP-Ly",
        "outputId": "42f7ff74-5f8e-4e8e-a55b-35509907a2d6"
      },
      "outputs": [
        {
          "name": "stdout",
          "output_type": "stream",
          "text": [
            "       up  down  right  left\n",
            "white   0     1      2     3\n",
            "black   4     5      6     7\n",
            "red     8     9     10    11\n",
            "blue   12    13     14    15\n"
          ]
        }
      ],
      "source": [
        "import pandas as pd\n",
        "import numpy as np\n",
        "frame = pd.DataFrame(np.arange(16).reshape(4,4),\n",
        "\t\tindex =['white', 'black', 'red','blue'],\n",
        "\t\tcolumns =['up', 'down', 'right', 'left'])\n",
        "frame.to_json('frame.json')\n",
        "#Read json-formatted data\n",
        "jsonFrame = pd.read_json('frame.json')\n",
        "print(jsonFrame)"
      ]
    },
    {
      "cell_type": "markdown",
      "metadata": {
        "id": "COZb1jNqw7Sr"
      },
      "source": [
        "**Example 11**:"
      ]
    },
    {
      "cell_type": "code",
      "execution_count": null,
      "metadata": {
        "colab": {
          "base_uri": "https://localhost:8080/"
        },
        "id": "4HeyiA7yUJuW",
        "outputId": "434f1293-ae8a-4d1e-dad7-647db1e046d7"
      },
      "outputs": [
        {
          "name": "stdout",
          "output_type": "stream",
          "text": [
            "   0    1    2\n",
            "0  0  123  122\n",
            "1  1  124  321\n",
            "2  2  125  333\n"
          ]
        }
      ],
      "source": [
        "import pandas as pd\n",
        "example11 = pd.read_table('https://raw.githubusercontent.com/huynhhoc/DataAnalystDeepLearning/main/Data/example11.txt', sep='\\D+', header=None, engine='python')\n",
        "print (example11)"
      ]
    },
    {
      "cell_type": "markdown",
      "metadata": {
        "id": "1AP4HUD6WTzE"
      },
      "source": [
        "**Example 12**:"
      ]
    },
    {
      "cell_type": "code",
      "execution_count": null,
      "metadata": {
        "colab": {
          "base_uri": "https://localhost:8080/"
        },
        "id": "GJ5xj_YYWWie",
        "outputId": "1e96adc5-0642-44d1-a581-999646f9d129"
      },
      "outputs": [
        {
          "name": "stdout",
          "output_type": "stream",
          "text": [
            "   white  red  blue  green animal\n",
            "0      1    5     2      3    cat\n",
            "1      2    7     8      5    dog\n",
            "2      3    3     6      7  horse\n",
            "3      2    2     8      3   duck\n",
            "4      4    4     2      1  mouse\n"
          ]
        }
      ],
      "source": [
        "import pandas as pd\n",
        "example12 = pd.read_table('https://raw.githubusercontent.com/huynhhoc/DataAnalystDeepLearning/main/Data/example12.txt', sep=',', skiprows=[0,1,3,6])\n",
        "print (example12)"
      ]
    },
    {
      "cell_type": "markdown",
      "metadata": {
        "id": "azZngqHVYqGN"
      },
      "source": [
        "**Example 13**:\n",
        "\n",
        "white,red,blue,green,animal\n",
        "\n",
        "1,5,2,3,cat\n",
        "\n",
        "2,7,8,5,dog\n",
        "\n",
        "3,3,6,7,horse\n",
        "\n",
        "2,2,8,3,duck\n",
        "\n",
        "4,4,2,1,mouse"
      ]
    },
    {
      "cell_type": "code",
      "execution_count": null,
      "metadata": {
        "colab": {
          "base_uri": "https://localhost:8080/"
        },
        "id": "PoDgIjSbbYnq",
        "outputId": "b01a49ec-717b-41c9-efe8-6e5c15c933d3"
      },
      "outputs": [
        {
          "name": "stdout",
          "output_type": "stream",
          "text": [
            "  white,red,blue,green,animal\n",
            "0                 1,5,2,3,cat\n",
            "1               3,3,6,7,horse\n",
            "2                2,2,8,3,duck\n"
          ]
        }
      ],
      "source": [
        "import pandas as pd\n",
        "example13 = pd.read_table('https://raw.githubusercontent.com/huynhhoc/DataAnalystDeepLearning/main/Data/example13.txt', skiprows=[2], nrows=3)\n",
        "print (example13)"
      ]
    },
    {
      "cell_type": "markdown",
      "metadata": {
        "id": "TgoL82TGY-Kl"
      },
      "source": [
        "# Filter - Dropna - Update"
      ]
    },
    {
      "cell_type": "markdown",
      "metadata": {
        "id": "owwNWuyQnrKx"
      },
      "source": [
        "**Example 14**:"
      ]
    },
    {
      "cell_type": "code",
      "execution_count": null,
      "metadata": {
        "colab": {
          "base_uri": "https://localhost:8080/"
        },
        "id": "s2Sdn9VlrSgK",
        "outputId": "792da10f-37b2-4297-f0ba-53f7f27a130f"
      },
      "outputs": [
        {
          "name": "stdout",
          "output_type": "stream",
          "text": [
            "        ball  pen  pencil  paper\n",
            "red        0    1       2      3\n",
            "blue       4    5       6      7\n",
            "yellow     8    9      10     11\n",
            "white     12   13      14     15\n"
          ]
        }
      ],
      "source": [
        "import pandas as pd\n",
        "import numpy as np\n",
        "frame = pd.DataFrame(np.arange(16).reshape(4,4),index = ['red', 'blue', 'yellow','white'],columns = ['ball', 'pen', 'pencil', 'paper'])\n",
        "print(frame)"
      ]
    },
    {
      "cell_type": "code",
      "execution_count": null,
      "metadata": {
        "colab": {
          "base_uri": "https://localhost:8080/"
        },
        "id": "p61_aqH_i1w9",
        "outputId": "afe0e263-f464-40b8-c1a8-697ebce2e3ca"
      },
      "outputs": [
        {
          "name": "stdout",
          "output_type": "stream",
          "text": [
            "        paper  pen\n",
            "red         3    1\n",
            "blue        7    5\n",
            "yellow     11    9\n",
            "white      15   13\n"
          ]
        }
      ],
      "source": [
        "newframe = pd.DataFrame(frame, columns=['paper','pen'])\n",
        "print(newframe)"
      ]
    },
    {
      "cell_type": "markdown",
      "metadata": {
        "id": "5mNRwvoC4yOd"
      },
      "source": [
        "**Example 14**: Set **NaN** for value less than 11"
      ]
    },
    {
      "cell_type": "code",
      "execution_count": null,
      "metadata": {
        "colab": {
          "base_uri": "https://localhost:8080/"
        },
        "id": "-0ejrhR74jTY",
        "outputId": "a4afebbe-5ab7-416c-fb61-857f772ba5e3"
      },
      "outputs": [
        {
          "name": "stdout",
          "output_type": "stream",
          "text": [
            "        ball  pen  pencil  paper\n",
            "red      0.0  1.0     2.0    3.0\n",
            "blue     4.0  5.0     6.0    7.0\n",
            "yellow   8.0  9.0    10.0    NaN\n",
            "white    NaN  NaN     NaN    NaN\n"
          ]
        }
      ],
      "source": [
        "filteredFrame = frame[frame < 11]\n",
        "print(filteredFrame)"
      ]
    },
    {
      "cell_type": "markdown",
      "metadata": {
        "id": "r7j-XT2HoYOq"
      },
      "source": [
        "**Example 15**: Drop rows that contain any NaN value"
      ]
    },
    {
      "cell_type": "code",
      "execution_count": null,
      "metadata": {
        "colab": {
          "base_uri": "https://localhost:8080/"
        },
        "id": "t1e5qVfP4xVu",
        "outputId": "d9ffc307-2e64-45d5-bec4-aecf1dd00a05"
      },
      "outputs": [
        {
          "name": "stdout",
          "output_type": "stream",
          "text": [
            "      ball  pen  pencil  paper\n",
            "red    0.0  1.0     2.0    3.0\n",
            "blue   4.0  5.0     6.0    7.0\n"
          ]
        }
      ],
      "source": [
        "dropAllNaNFrame = filteredFrame.dropna()\n",
        "print (dropAllNaNFrame)"
      ]
    },
    {
      "cell_type": "markdown",
      "metadata": {
        "id": "ddna1XQ5oolQ"
      },
      "source": [
        "**Example 16**: Drop rows that all of them are NaN"
      ]
    },
    {
      "cell_type": "code",
      "execution_count": null,
      "metadata": {
        "colab": {
          "base_uri": "https://localhost:8080/"
        },
        "id": "FMcwqq6Ro-12",
        "outputId": "b531929e-169e-435d-b0cd-1b147aa7f433"
      },
      "outputs": [
        {
          "name": "stdout",
          "output_type": "stream",
          "text": [
            "        ball  pen  pencil  paper\n",
            "red      0.0  1.0     2.0    3.0\n",
            "blue     4.0  5.0     6.0    7.0\n",
            "yellow   8.0  9.0    10.0    NaN\n"
          ]
        }
      ],
      "source": [
        "dropNaNAllFrame = filteredFrame.dropna(how='all')\n",
        "print(dropNaNAllFrame)"
      ]
    },
    {
      "cell_type": "markdown",
      "metadata": {
        "id": "lzfc8UE6aXoE"
      },
      "source": [
        "# Describe the missing data"
      ]
    },
    {
      "cell_type": "markdown",
      "metadata": {
        "id": "Ig5WzHkEZmPX"
      },
      "source": [
        "**Example 17**: Describe the missing data"
      ]
    },
    {
      "cell_type": "code",
      "execution_count": null,
      "metadata": {
        "colab": {
          "base_uri": "https://localhost:8080/"
        },
        "id": "Cz99yjwTZn8o",
        "outputId": "f89a4606-cba9-4ebe-dfa6-d3f150a4e913"
      },
      "outputs": [
        {
          "data": {
            "text/plain": [
              "ball      1\n",
              "pen       1\n",
              "pencil    1\n",
              "paper     2\n",
              "dtype: int64"
            ]
          },
          "execution_count": 28,
          "metadata": {},
          "output_type": "execute_result"
        }
      ],
      "source": [
        "filteredFrame.isnull().sum()"
      ]
    },
    {
      "cell_type": "markdown",
      "metadata": {
        "id": "ejAU9PNVadJj"
      },
      "source": [
        "# Update for null value"
      ]
    },
    {
      "cell_type": "markdown",
      "metadata": {
        "id": "B0uz9-PIpIJM"
      },
      "source": [
        "**Example 18**: Set 0 for all NaN value"
      ]
    },
    {
      "cell_type": "code",
      "execution_count": null,
      "metadata": {
        "colab": {
          "base_uri": "https://localhost:8080/"
        },
        "id": "pdey7r4AYJ-m",
        "outputId": "3b0f711b-2368-41d1-a51f-996c74ed44ff"
      },
      "outputs": [
        {
          "name": "stdout",
          "output_type": "stream",
          "text": [
            "        ball  pen  pencil  paper\n",
            "red      0.0  1.0     2.0    3.0\n",
            "blue     4.0  5.0     6.0    7.0\n",
            "yellow   8.0  9.0    10.0    NaN\n",
            "white    NaN  NaN     NaN    NaN\n"
          ]
        }
      ],
      "source": [
        "print (filteredFrame)"
      ]
    },
    {
      "cell_type": "code",
      "execution_count": null,
      "metadata": {
        "colab": {
          "base_uri": "https://localhost:8080/"
        },
        "id": "AQBV9lB8YRFF",
        "outputId": "fd049338-fd70-4113-db4f-d79baf81129f"
      },
      "outputs": [
        {
          "name": "stdout",
          "output_type": "stream",
          "text": [
            "        ball  pen  pencil  paper\n",
            "red      0.0  1.0     2.0    3.0\n",
            "blue     4.0  5.0     6.0    7.0\n",
            "yellow   8.0  9.0    10.0    0.0\n",
            "white    0.0  0.0     0.0    0.0\n"
          ]
        }
      ],
      "source": [
        "fillnazeroFrame = filteredFrame.fillna(0)\n",
        "print(fillnazeroFrame)"
      ]
    },
    {
      "cell_type": "markdown",
      "metadata": {
        "id": "KXHuCszdpafQ"
      },
      "source": [
        "**Example 19**: Write dataframe to csv file"
      ]
    },
    {
      "cell_type": "markdown",
      "metadata": {
        "id": "HA_d8Fxnygks"
      },
      "source": [
        "There are two steps to save dataframe as csv file in google drive:\n",
        "\n",
        "**Step 1**: mount google colab with google drive\n",
        "\n",
        "**Step 2**: use to_csv('/drive/My Drive' + '/DataAnalyst/filename.csv') function to export this file into DataAnalyst folder.\n",
        "\n",
        "Note: \n",
        "1. '**/drive/My Drive**': is constant.\n",
        "2. **DataAnalyst** folder is an example of folder in your google drive"
      ]
    },
    {
      "cell_type": "code",
      "execution_count": null,
      "metadata": {
        "colab": {
          "base_uri": "https://localhost:8080/"
        },
        "id": "M9cYgHQcyvDm",
        "outputId": "f5e9a679-e0f1-436d-9e12-6f0ea3fbea1d"
      },
      "outputs": [
        {
          "name": "stdout",
          "output_type": "stream",
          "text": [
            "Mounted at /drive\n"
          ]
        }
      ],
      "source": [
        "from google.colab import drive\n",
        "drive.mount('/drive')"
      ]
    },
    {
      "cell_type": "code",
      "execution_count": null,
      "metadata": {
        "id": "GnOy43VBq42d"
      },
      "outputs": [],
      "source": [
        "frame.to_csv('/drive/My Drive/DataAnalyst/lab01_example8.csv')"
      ]
    },
    {
      "cell_type": "markdown",
      "metadata": {
        "id": "IC6SjmtimIgO"
      },
      "source": [
        "# Homeworks\n"
      ]
    },
    {
      "cell_type": "markdown",
      "metadata": {
        "id": "4KnHIt-gmLWt"
      },
      "source": [
        "Dữ liệu dulieuxettuyendaihoc.csv được mô tả như sau:\n",
        "Dữ liệu lưu trữ điểm trung bình môn, khu vực, khối thi và điểm thi đại học của 100 học sinh.\n",
        "-\tT1, L1, H1, S1, V1, X1, D1, N1 lần lượt là điểm trung bình các môn Toán, Lý, Hóa, Sinh, Văn, Sử, Địa, Ngoại ngữ năm lớp 10\n",
        "-\tT2, L2, H2, S2, V2, X2, D2, N2 lần lượt là điểm trung bình các môn Toán, Lý, Hóa, Sinh, Văn, Sử, Địa, Ngoại ngữ năm lớp 11\n",
        "-\tT6, L6, H6, S6, V6, X6, D6, N6 lần lượt là điểm trung bình các môn Toán, Lý, Hóa, Sinh, Văn, Sử, Địa, Ngoại ngữ năm lớp 12\n",
        "-\tGT: Giới tính\n",
        "-\tDT: Dân tộc\n",
        "-\tKV, KT lần lượt là khu vực thi và khối thi \n",
        "-\tDH1, DH2, DH3 lần lượt là điểm thi đại học môn 1, môn 2, môn 3"
      ]
    },
    {
      "cell_type": "markdown",
      "metadata": {
        "id": "YHKY1IrYmTc3"
      },
      "source": [
        "**Sử dụng Pandas để thực hiện các yêu cầu sau đây**:\n",
        "1.\tXác định và phân loại dữ liệu định tính và định lượng\n",
        "2.\tĐịnh nghĩa các thang đo phù hợp cho từng biến số\n",
        "3.\tSử dụng Python để tải dữ liệu lên chương trình và in ra màn hình 10 dòng đầu tiên và 10 dòng cuối cùng\n",
        "4.\tThống kê dữ liệu thiếu cho cột dân tộc và hiệu chỉnh dữ liệu thiếu như sau: Mặc định thiếu thì điền giá trị 0.\n",
        "**Hướng dẫn**\n",
        "> Lập bảng tần số, tần suất để khảo sát dữ liệu thiếu, bao nhiêu dữ liệu riêng biệt (pandas unique).\n",
        "\n",
        "> Thực hiện thay thế dữ liệu thiếu bằng phương pháp điền dữ liệu 0\n",
        "\n",
        "5.\tThống kê dữ liệu thiếu cho biến T1 và hiệu chỉnh dữ liệu, lưu ý việc thay thế dữ liệu thiếu sử dụng phương pháp Mean.\n",
        "**Hướng dẫn**\n",
        "\n",
        "> Lập bảng tần số, tần suất để khảo sát dữ liệu thiếu.\n",
        "\n",
        "> Thực hiện thay thế dữ liệu thiếu bằng phương pháp Mean.\n",
        "\n",
        "6.\tHãy thực hiện xử lý lần lượt tất cả dữ liệu thiếu cho các biến về điểm số còn lại.\n",
        "7.\tTạo các biến TBM1, TBM2, TBM3 tương ứng với trung bình môn của các năm lớp 10, 11 và 12. \n",
        "•\tCông thức tính: TBM = (T*2 + L + H + S + V*2 + X + D + N) / 10\n",
        "8.\tTạo các biến xếp loại XL1, XL2 và XL3 dựa trên TBM1, TBM2 và TBM3 cho từng năm lớp 10, 11, 12 như sau:\n",
        "•\tNhỏ hơn 5.0 xếp loại: yếu (kí hiệu là Y)\n",
        "•\tTừ 5.0 đến dưới 6.5: trung bình (kí hiệu là TB)\n",
        "•\tTừ 6.5 đến dưới 8.0: khá (kí hiệu là K)\n",
        "•\tTừ 8.0 đến dưới 9.0: giỏi (kí hiệu là G)\n",
        "•\tTừ 9.0 trở lên: xuất sắc (kí hiệu là XS)\n",
        "9.\tTạo các biến US_TBM1, US_TBM2 và US_TBM3 để chuyển điểm trung bình các năm lớp 10, 11 và 12 từ thang điểm 10 của Việt Nam sang thang điểm 4 của Mỹ. Sử dụng phương pháp Min-Max Normalization\n",
        "10.\tTạo biến kết quả xét tuyển (kí hiệu là KQXT) nhằm xác định sinh viên đậu (giá trị “1”) và rớt (giá trị “0”) vào các khối dựa trên điểm DH1, DH2 và DH3 như sau\n",
        "•\tVới khối A, A1 nếu [(DH1*2 + DH2 + DH3)/4] lớn hơn hoặc bằng 5.0 thì đậu, ngược lại là rớt\n",
        "•\tVới khối B nếu [(DH1 + DH2*2 + DH3)/4] lớn hơn hoặc bằng 5.0 thì đậu, ngược lại là rớt\n",
        "•\tVới khối khác nếu [(DH1+ DH2 + DH3)/3] lớn hơn hoặc bằng 5.0 thì đậu, ngược lại là rớt\n",
        "11.\tLưu trữ dữ liệu xuống ổ đĩa thành file processed_dulieuxettuyendaihoc.csv\n",
        "\n"
      ]
    }
  ],
  "metadata": {
    "colab": {
      "name": "Lab01.ipynb",
      "provenance": [],
      "toc_visible": true,
      "include_colab_link": true
    },
    "kernelspec": {
      "display_name": "Python 3",
      "name": "python3"
    },
    "language_info": {
      "codemirror_mode": {
        "name": "ipython",
        "version": 3
      },
      "file_extension": ".py",
      "mimetype": "text/x-python",
      "name": "python",
      "nbconvert_exporter": "python",
      "pygments_lexer": "ipython3",
      "version": "3.9.10"
    }
  },
  "nbformat": 4,
  "nbformat_minor": 0
}